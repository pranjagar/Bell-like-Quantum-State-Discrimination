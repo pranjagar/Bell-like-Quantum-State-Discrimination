{
 "cells": [
  {
   "cell_type": "code",
   "execution_count": 1,
   "metadata": {},
   "outputs": [],
   "source": [
    "import numpy as np\n",
    "import math as m\n",
    "import matplotlib.pyplot as plt\n",
    "# import matplotlib.animation as ani\n",
    "# from matplotlib import cm\n",
    "import sympy as sym\n",
    "import random as rand\n",
    "import Data\n",
    "\n",
    "import Functions_module_beta as fn\n",
    "# from Functions_module_beta import MatrixAction, SystemAction\n",
    "# import custom_functions_01 as cfn\n",
    "# from custom_functions_01 import avg_prob_with_confidence"
   ]
  },
  {
   "cell_type": "markdown",
   "metadata": {},
   "source": [
    "Idea is : if we have the full action of the system abstractly (which is composed of individual splitters' abstract actions), then if we input vectors basis [1,0,0,....,0], [0,1,0,0...0] ... etc. then resultant of the action are the rows of this abstract matrix, thus we can get the full abstract matrix. \n",
    "\n",
    "These ten (mathematical) vectors should be fixed in the correspondence to our physical modes like [1,0,0,1], [1,1,0,0] etc. and keeping that constant in all subsequent calculations. The order is found in the paper, its basically according to natural positions like (1100, 1010, 1001, 0101,...0002) that correspond to the list (1000000000, 010000000, ....,0000000001)."
   ]
  },
  {
   "cell_type": "markdown",
   "metadata": {},
   "source": []
  },
  {
   "cell_type": "code",
   "execution_count": 8,
   "metadata": {},
   "outputs": [
    {
     "name": "stdout",
     "output_type": "stream",
     "text": [
      "[cos(phi)*cos(2*phi), -sin(2*phi)**2/2, 0, -sin(phi)*cos(2*phi), 0, 0, sqrt(2)*sin(2*phi)*cos(phi)**2/2, -sqrt(2)*sin(2*phi)/2, sqrt(2)*sin(phi)**2*sin(2*phi)/2, 0]\n"
     ]
    }
   ],
   "source": [
    "# ten basis list, systemaction function actining one by one on the elts of it.\n",
    "\n",
    "basis = fn.TenNaturalBasis\n",
    "\n",
    "print(fn.SystemAction([[1,1,0,0]], [1], stop_at = 13)[1])\n",
    "\n",
    "\n",
    "\n",
    "\n"
   ]
  },
  {
   "cell_type": "markdown",
   "metadata": {},
   "source": [
    "Result of the full system when applied on (1,1,0,0) (or [1000000000]). This is supposed to be the first row of the full system matrix. It's assuming all splitter angles are the same. In general there'd be 6 phi angles. This can be obtained but the code in function module need to be altered slightly.\n",
    "\n",
    "[(-sin(phi)*sin(2*phi)**2*cos(phi)/2 + cos(phi)**3*cos(2*phi))*cos(phi) - .7*sqrt(2)*sin(phi)**2*sin(2*phi)*cos(phi)**3, ((sin(phi)*sin(2*phi)**2*cos(phi)/2 - cos(phi)**3*cos(2*phi))*sin(phi) - .7*sqrt(2)*sin(phi)*sin(2*phi)*cos(phi)**4)*sin(phi) + (-sin(phi)*cos(phi)**2*cos(2*phi) - sin(2*phi)**2*cos(phi)**2/2)*cos(phi), ((sin(phi)*sin(2*phi)**2*cos(phi)/2 - cos(phi)**3*cos(2*phi))*sin(phi) - .7*sqrt(2)*sin(phi)*sin(2*phi)*cos(phi)**4)*cos(phi) + (sin(phi)*cos(phi)**2*cos(2*phi) + sin(2*phi)**2*cos(phi)**2/2)*sin(phi), ((sin(phi)**2*cos(phi)*cos(2*phi) + sin(phi)*sin(2*phi)**2*cos(phi)/2)*sin(phi) + (-(-sin(phi)**2 + cos(phi)**2)*sin(phi)*cos(2*phi) + .7*sqrt(2)*sin(phi)**3*sin(2*phi)*cos(phi) + .7*sqrt(2)*sin(phi)*sin(2*phi)*cos(phi))*cos(phi))*cos(phi) + ((sin(phi)**2*sin(2*phi)**2/2 - sin(phi)*cos(phi)**2*cos(2*phi))*(-sin(phi)**2 + cos(phi)**2) + (-.7*sqrt(2)*sin(phi)**4*sin(2*phi) + 2*sin(phi)**2*cos(phi)*cos(2*phi) + .7*sqrt(2)*sin(2*phi)*cos(phi)**2)*sin(phi)*cos(phi) + .7*sqrt(2)*sin(phi)**3*sin(2*phi)*cos(phi)**3)*sin(phi), (-(sin(phi)**2*cos(phi)*cos(2*phi) + sin(phi)*sin(2*phi)**2*cos(phi)/2)*sin(phi) - (-(-sin(phi)**2 + cos(phi)**2)*sin(phi)*cos(2*phi) + .7*sqrt(2)*sin(phi)**3*sin(2*phi)*cos(phi) + .7*sqrt(2)*sin(phi)*sin(2*phi)*cos(phi))*cos(phi))*sin(phi) + ((sin(phi)**2*sin(2*phi)**2/2 - sin(phi)*cos(phi)**2*cos(2*phi))*(-sin(phi)**2 + cos(phi)**2) + (-.7*sqrt(2)*sin(phi)**4*sin(2*phi) + 2*sin(phi)**2*cos(phi)*cos(2*phi) + .7*sqrt(2)*sin(2*phi)*cos(phi)**2)*sin(phi)*cos(phi) + .7*sqrt(2)*sin(phi)**3*sin(2*phi)*cos(phi)**3)*cos(phi), ((sin(phi)**2*cos(phi)*cos(2*phi) + sin(phi)*sin(2*phi)**2*cos(phi)/2)*cos(phi) + ((-sin(phi)**2 + cos(phi)**2)*sin(phi)*cos(2*phi) - .7*sqrt(2)*sin(phi)**3*sin(2*phi)*cos(phi) - .7*sqrt(2)*sin(phi)*sin(2*phi)*cos(phi))*sin(phi))*(-sin(phi)**2 + cos(phi)**2) + (1.4*(-.7*sin(phi)**2*sin(2*phi)**2 + 1.4*sin(phi)*cos(phi)**2*cos(2*phi))*sin(phi)*cos(phi) + 1.4*(sqrt(2)*sin(phi)**4*sin(2*phi)/2 - 1.4*sin(phi)**2*cos(phi)*cos(2*phi) - sqrt(2)*sin(2*phi)*cos(phi)**2/2)*sin(phi)**2 + .7*sqrt(2)*sin(phi)**2*sin(2*phi)*cos(phi)**4)*sin(phi)*cos(phi) + (-.7*sqrt(2)*sin(phi)**2*sin(2*phi)*cos(phi)**2 + .7*sqrt(2)*sin(phi)**2*sin(2*phi) - 2*sin(phi)**2*cos(phi)*cos(2*phi))*sin(phi)*cos(phi), sqrt(2)*sin(2*phi)*cos(phi)**4/2, (.7*sin(phi)**2*sin(2*phi)**2 - 1.4*sin(phi)*cos(phi)**2*cos(2*phi))*sin(phi)*cos(phi) + (sqrt(2)*sin(phi)**4*sin(2*phi)/2 - 1.4*sin(phi)**2*cos(phi)*cos(2*phi) - sqrt(2)*sin(2*phi)*cos(phi)**2/2)*cos(phi)**2 + sqrt(2)*sin(phi)**4*sin(2*phi)*cos(phi)**2/2, (1.4*(sin(phi)**2*cos(phi)*cos(2*phi) + sin(phi)*sin(2*phi)**2*cos(phi)/2)*cos(phi) + 1.4*((-sin(phi)**2 + cos(phi)**2)*sin(phi)*cos(2*phi) - .7*sqrt(2)*sin(phi)**3*sin(2*phi)*cos(phi) - .7*sqrt(2)*sin(phi)*sin(2*phi)*cos(phi))*sin(phi))*sin(phi)*cos(phi) + ((-.7*sin(phi)**2*sin(2*phi)**2 + 1.4*sin(phi)*cos(phi)**2*cos(2*phi))*sin(phi)*cos(phi) + (sqrt(2)*sin(phi)**4*sin(2*phi)/2 - 1.4*sin(phi)**2*cos(phi)*cos(2*phi) - sqrt(2)*sin(2*phi)*cos(phi)**2/2)*sin(phi)**2 + sqrt(2)*sin(phi)**2*sin(2*phi)*cos(phi)**4/2)*sin(phi)**2 + (sqrt(2)*sin(phi)**2*sin(2*phi)*cos(phi)**2/2 - sqrt(2)*sin(phi)**2*sin(2*phi)/2 + 1.4*sin(phi)**2*cos(phi)*cos(2*phi))*cos(phi)**2, (-1.4*(sin(phi)**2*cos(phi)*cos(2*phi) + sin(phi)*sin(2*phi)**2*cos(phi)/2)*cos(phi) - 1.4*((-sin(phi)**2 + cos(phi)**2)*sin(phi)*cos(2*phi) - .7*sqrt(2)*sin(phi)**3*sin(2*phi)*cos(phi) - .7*sqrt(2)*sin(phi)*sin(2*phi)*cos(phi))*sin(phi))*sin(phi)*cos(phi) + ((-.7*sin(phi)**2*sin(2*phi)**2 + 1.4*sin(phi)*cos(phi)**2*cos(2*phi))*sin(phi)*cos(phi) + (sqrt(2)*sin(phi)**4*sin(2*phi)/2 - 1.4*sin(phi)**2*cos(phi)*cos(2*phi) - sqrt(2)*sin(2*phi)*cos(phi)**2/2)*sin(phi)**2 + sqrt(2)*sin(phi)**2*sin(2*phi)*cos(phi)**4/2)*cos(phi)**2 + (sqrt(2)*sin(phi)**2*sin(2*phi)*cos(phi)**2/2 - sqrt(2)*sin(phi)**2*sin(2*phi)/2 + 1.4*sin(phi)**2*cos(phi)*cos(2*phi))*sin(phi)**2]"
   ]
  },
  {
   "cell_type": "code",
   "execution_count": null,
   "metadata": {},
   "outputs": [],
   "source": []
  },
  {
   "cell_type": "code",
   "execution_count": null,
   "metadata": {},
   "outputs": [],
   "source": []
  }
 ],
 "metadata": {
  "kernelspec": {
   "display_name": "Python 3",
   "language": "python",
   "name": "python3"
  },
  "language_info": {
   "codemirror_mode": {
    "name": "ipython",
    "version": 3
   },
   "file_extension": ".py",
   "mimetype": "text/x-python",
   "name": "python",
   "nbconvert_exporter": "python",
   "pygments_lexer": "ipython3",
   "version": "3.11.4"
  },
  "orig_nbformat": 4
 },
 "nbformat": 4,
 "nbformat_minor": 2
}
