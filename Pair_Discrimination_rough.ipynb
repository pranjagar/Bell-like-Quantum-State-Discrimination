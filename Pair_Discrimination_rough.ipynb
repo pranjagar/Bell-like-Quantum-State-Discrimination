{
 "cells": [
  {
   "cell_type": "code",
   "execution_count": 53,
   "metadata": {},
   "outputs": [],
   "source": [
    "import numpy as np\n",
    "import pandas as pd\n",
    "import math as m\n",
    "import sympy as sym\n",
    "import random as rand\n",
    "import matplotlib.pyplot as plt\n",
    "import cmath as cm\n",
    "# Testing..attention please..nuisance, you sent, who sent for me?"
   ]
  },
  {
   "cell_type": "code",
   "execution_count": 54,
   "metadata": {},
   "outputs": [],
   "source": [
    "# defininf the states\n",
    "# defininsg coefficeients sybols\n",
    "\n",
    "def Creating_states( coeff = [1/(2**.5),1/(2**.5),1,0] , Abstract = False):    # coeff list like [a0,a1,b0,b1]\n",
    "    if Abstract == True:\n",
    "        a0 = sym.symbols('a0')\n",
    "        a1 = sym.symbols('a1')\n",
    "        b0 = sym.symbols('b0')\n",
    "        b1 = sym.symbols('b1')\n",
    "    else:\n",
    "        a0 = coeff[0]\n",
    "        a1 = coeff[1]\n",
    "        b0 = coeff[2]\n",
    "        b1 = coeff[3]\n",
    "    psi0 = [a0,a1]      # defining states\n",
    "    psi1 = [b0,b1]\n",
    "    return([psi0,psi1])"
   ]
  },
  {
   "cell_type": "code",
   "execution_count": 55,
   "metadata": {},
   "outputs": [
    {
     "data": {
      "text/plain": [
       "[0.7071067811865475, 0.7071067811865475]"
      ]
     },
     "execution_count": 55,
     "metadata": {},
     "output_type": "execute_result"
    }
   ],
   "source": [
    "psi0 = Creating_states(Abstract=False)[0]\n",
    "psi1 = Creating_states(Abstract=False)[1]\n",
    "\n",
    "psi0"
   ]
  },
  {
   "cell_type": "code",
   "execution_count": 56,
   "metadata": {},
   "outputs": [],
   "source": [
    "psi0sq = []\n",
    "psi1sq = []\n",
    "[[psi0sq.append(i*j) for i in psi0] for j in psi0]\n",
    "[[psi1sq.append(i*j) for i in psi1] for j in psi1]   # creating list of coeff for squared states (intermeditate step)\n",
    "\n",
    "psi0psi0 = [psi0sq[0], (psi0sq[1]**2+psi0sq[2]**2)**(.5), psi0sq[3]]        # the second element is the normalized coefficient due to the addition of states (01+10). See OneNote writeup for details\n",
    "psi1psi1 = [psi1sq[0], (psi1sq[1]**(2)+psi1sq[2]**(2))**(.5), psi1sq[3]]            # symmetric states in basis (|00>, normalized version of (|01>+|10>),|11>)\n",
    "\n",
    "# psi0psi0\n",
    "# sum([i**2 for i in psi0psi0])   # adding to 1 now."
   ]
  },
  {
   "cell_type": "code",
   "execution_count": 57,
   "metadata": {},
   "outputs": [
    {
     "data": {
      "text/latex": [
       "$\\displaystyle \\left[\\begin{matrix}0.625 & 0.176776695296637 & 0.125\\\\0.176776695296637 & 0.25 & 0.176776695296637\\\\0.125 & 0.176776695296637 & 0.125\\end{matrix}\\right]$"
      ],
      "text/plain": [
       "Matrix([\n",
       "[            0.625, 0.176776695296637,             0.125],\n",
       "[0.176776695296637,              0.25, 0.176776695296637],\n",
       "[            0.125, 0.176776695296637,             0.125]])"
      ]
     },
     "execution_count": 57,
     "metadata": {},
     "output_type": "execute_result"
    }
   ],
   "source": [
    "#creating the density matrix rho\n",
    "# rho is 1/2*(|psi0psi0Xpsi0psi0|+|psi1psi1Xpsi1psi1|)\n",
    "# findiing the conjugate vectors \n",
    "vec_psi0psi0 = sym.Matrix(psi0psi0)     # convertying to sympy vectors for easy matrix multiplication\n",
    "vec_psi1psi1 = sym.Matrix(psi1psi1)\n",
    "\n",
    "rho = (1/2)*(vec_psi0psi0*vec_psi0psi0.T  + vec_psi1psi1*vec_psi1psi1.T)       # density matrix with priors 1/2 each.\n",
    "rho"
   ]
  },
  {
   "cell_type": "code",
   "execution_count": 58,
   "metadata": {},
   "outputs": [],
   "source": [
    "# creating the SIC POVM matrices\n",
    "w = m.e**((2/3)*m.pi*(1j))\n",
    "POVM_vec = (1/(2**.5))*(np.array([[0,1,-1],[-1,0,1],[1,-1,0],[0,w,-w**2],[-1,0,w**2],[1,-w,0],[0,w**2,-w],[-1,0,w],[1,-w**2,0]]))\n",
    "POVM_elts = [(1/3)*np.outer(np.conjugate(POVM_vec[i]),POVM_vec[i]) for i in range(len(POVM_vec))]\n",
    "# sum([np.trace(POVM_elts[i]) for i in range(9)])`# trace sum checks out`"
   ]
  },
  {
   "cell_type": "code",
   "execution_count": 59,
   "metadata": {},
   "outputs": [
    {
     "data": {
      "text/latex": [
       "$\\displaystyle 0.999999999999999$"
      ],
      "text/plain": [
       "0.999999999999999"
      ]
     },
     "execution_count": 59,
     "metadata": {},
     "output_type": "execute_result"
    }
   ],
   "source": [
    "# prob_vec = [(POVM_elts[i]*rho).trace() for i in range(len(POVM_elts))]\n",
    "prob_vec =  [np.trace(np.dot(POVM_elts[i],rho)) for i in range(9)] #[(POVM_elts[i]*rho).trace() for i in range(len(POVM_elts))]\n",
    "# prob_vec\n",
    "sum(prob_vec)        # prob not adding to 1?\n",
    "# print(prob_vec)\n"
   ]
  },
  {
   "cell_type": "code",
   "execution_count": 60,
   "metadata": {},
   "outputs": [],
   "source": [
    "# # verifying that the trace still holds to be the same, equalt to .111 for this weird POVM element.\n",
    "# c = .00308641975308642*2.71828182845905**(4.18879020478639*(sym.I))\n",
    "\n",
    "# p = cm.polar(c)\n",
    "# cm.rect(p[0], p[1])\n",
    "\n",
    "# r = .00617-.0015\n",
    "# i = .0026\n",
    "\n",
    "# ab = (r**2+i**2)**(.5)\n",
    "# 2*ab # verified"
   ]
  },
  {
   "cell_type": "code",
   "execution_count": 61,
   "metadata": {},
   "outputs": [
    {
     "data": {
      "text/plain": [
       "([35.7443490112103,\n",
       "  833.333333333333,\n",
       "  869.077682344544,\n",
       "  919.627825494394,\n",
       "  1458.33333333333,\n",
       "  1752.96115882773,\n",
       "  919.627825494394,\n",
       "  1458.33333333333,\n",
       "  1752.96115882773],\n",
       " [32, 840, 815, 951, 1474, 1755, 915, 1445, 1773])"
      ]
     },
     "execution_count": 61,
     "metadata": {},
     "output_type": "execute_result"
    }
   ],
   "source": [
    "N = 10000       # number of measurements  \n",
    "\n",
    "POVM_dir_symbols = ['d1','d2','d3','d4','d5','d6','d7','d8','d9']       # symbols to indicate collapsed direction\n",
    "#prob distribution is simply the corresponding elements of the prob_vec\n",
    "collapse_dir_vec = rand.choices(POVM_dir_symbols, weights=prob_vec, k = N)   # choosing collapse directions with weights for N trials\n",
    "\n",
    "nj_vec = [collapse_dir_vec.count(f'd{i+1}') for i in range(9)]         # working babieee\n",
    "pj_num_vec = [i/N for i in nj_vec]         # working babieee\n",
    "([i*N for i in prob_vec] , nj_vec)   # comparing the theoretical and experimental collapse prob."
   ]
  },
  {
   "cell_type": "code",
   "execution_count": 62,
   "metadata": {},
   "outputs": [],
   "source": [
    "M = [[np.trace(np.dot(POVM_elts[i],POVM_elts[j])) for i in range(len(POVM_elts))] for j in range(len(POVM_elts))]     # creating M matrix using POVM definition"
   ]
  },
  {
   "cell_type": "code",
   "execution_count": 63,
   "metadata": {},
   "outputs": [],
   "source": [
    "u_0 = [1/3 for i in range(9)]           # cerating u_0 vector, to create the inverse matrix\n",
    "M_inv = 3*np.outer(u_0,u_0) + 12*(np.eye(9) - np.outer(u_0,u_0))        # creating the inverse matrix\n",
    "# np.trace(np.dot(M,M_inv))       # gives identity, checks out\n",
    "r_vec = np.dot(M_inv,pj_num_vec)\n"
   ]
  },
  {
   "cell_type": "code",
   "execution_count": 64,
   "metadata": {},
   "outputs": [
    {
     "data": {
      "text/plain": [
       "[array([[-0.        +0.j, -0.        +0.j, -0.        +0.j],\n",
       "        [-0.        +0.j, -0.16026667+0.j,  0.16026667-0.j],\n",
       "        [-0.        +0.j,  0.16026667+0.j, -0.16026667+0.j]]),\n",
       " array([[ 0.00133333+0.j,  0.        +0.j, -0.00133333-0.j],\n",
       "        [ 0.        +0.j,  0.        +0.j,  0.        +0.j],\n",
       "        [-0.00133333+0.j,  0.        +0.j,  0.00133333+0.j]]),\n",
       " array([[-0.00366667+0.j,  0.00366667-0.j, -0.        +0.j],\n",
       "        [ 0.00366667+0.j, -0.00366667+0.j, -0.        +0.j],\n",
       "        [-0.        +0.j, -0.        +0.j, -0.        +0.j]]),\n",
       " array([[0.        +0.00000000e+00j, 0.        +0.00000000e+00j,\n",
       "         0.        +0.00000000e+00j],\n",
       "        [0.        +0.00000000e+00j, 0.02353333+4.95988426e-19j,\n",
       "         0.01176667-2.03804645e-02j],\n",
       "        [0.        +0.00000000e+00j, 0.01176667+2.03804645e-02j,\n",
       "         0.02353333-1.10223218e-19j]]),\n",
       " array([[ 0.12813333+0.00000000e+00j,  0.        +0.00000000e+00j,\n",
       "          0.06406667+1.10966722e-01j],\n",
       "        [ 0.        +0.00000000e+00j,  0.        +0.00000000e+00j,\n",
       "         -0.        +0.00000000e+00j],\n",
       "        [ 0.06406667-1.10966722e-01j, -0.        +0.00000000e+00j,\n",
       "          0.12813333-6.00138880e-19j]]),\n",
       " array([[0.18433333+0.00000000e+00j, 0.09216667-1.59637349e-01j,\n",
       "         0.        +0.00000000e+00j],\n",
       "        [0.09216667+1.59637349e-01j, 0.18433333+3.88500850e-18j,\n",
       "         0.        +0.00000000e+00j],\n",
       "        [0.        +0.00000000e+00j, 0.        +0.00000000e+00j,\n",
       "         0.        +0.00000000e+00j]]),\n",
       " array([[ 0.        +0.00000000e+00j, -0.        +0.00000000e+00j,\n",
       "          0.        +0.00000000e+00j],\n",
       "        [-0.        +0.00000000e+00j,  0.01633333-7.65005336e-20j,\n",
       "          0.00816667+1.41450816e-02j],\n",
       "        [ 0.        +0.00000000e+00j,  0.00816667-1.41450816e-02j,\n",
       "          0.01633333+3.44241259e-19j]]),\n",
       " array([[0.12233333+0.00000000e+00j, 0.        +0.00000000e+00j,\n",
       "         0.06116667-1.05943774e-01j],\n",
       "        [0.        +0.00000000e+00j, 0.        +0.00000000e+00j,\n",
       "         0.        +0.00000000e+00j],\n",
       "        [0.06116667+1.05943774e-01j, 0.        +0.00000000e+00j,\n",
       "         0.12233333+2.57829678e-18j]]),\n",
       " array([[0.18793333+0.00000000e+00j, 0.09396667+1.62755041e-01j,\n",
       "         0.        +0.00000000e+00j],\n",
       "        [0.09396667-1.62755041e-01j, 0.18793333-8.80224508e-19j,\n",
       "         0.        +0.00000000e+00j],\n",
       "        [0.        +0.00000000e+00j, 0.        +0.00000000e+00j,\n",
       "         0.        +0.00000000e+00j]])]"
      ]
     },
     "execution_count": 64,
     "metadata": {},
     "output_type": "execute_result"
    }
   ],
   "source": [
    "rho_num_list = [r_vec[i]*POVM_elts[i] for i in range(len(POVM_elts))]\n",
    "[i for i in rho_num_list]"
   ]
  },
  {
   "cell_type": "code",
   "execution_count": 65,
   "metadata": {},
   "outputs": [
    {
     "data": {
      "text/plain": [
       "array([[0.6204+0.00000000e+00j, 0.1898+3.11769145e-03j,\n",
       "        0.1239+5.02294734e-03j],\n",
       "       [0.1898-3.11769145e-03j, 0.2482+3.42427188e-18j,\n",
       "        0.1802-6.23538291e-03j],\n",
       "       [0.1239-5.02294734e-03j, 0.1802+6.23538291e-03j,\n",
       "        0.1314+2.21217594e-18j]])"
      ]
     },
     "execution_count": 65,
     "metadata": {},
     "output_type": "execute_result"
    }
   ],
   "source": [
    "rho_num = np.zeros_like(rho_num_list[0])\n",
    "\n",
    "# Loop over the matrices and sum them element-wise\n",
    "for matrix in rho_num_list:\n",
    "    rho_num = np.add(rho_num, matrix)\n",
    "\n",
    "rho_num "
   ]
  },
  {
   "cell_type": "code",
   "execution_count": 75,
   "metadata": {},
   "outputs": [
    {
     "data": {
      "text/latex": [
       "$\\displaystyle \\left[\\begin{matrix}0.625 & 0.176776695296637 & 0.125\\\\0.176776695296637 & 0.25 & 0.176776695296637\\\\0.125 & 0.176776695296637 & 0.125\\end{matrix}\\right]$"
      ],
      "text/plain": [
       "Matrix([\n",
       "[            0.625, 0.176776695296637,             0.125],\n",
       "[0.176776695296637,              0.25, 0.176776695296637],\n",
       "[            0.125, 0.176776695296637,             0.125]])"
      ]
     },
     "execution_count": 75,
     "metadata": {},
     "output_type": "execute_result"
    }
   ],
   "source": [
    "rho \n",
    "del_rho = rho_num-rho\n",
    "del_rho\n",
    "rho"
   ]
  },
  {
   "cell_type": "code",
   "execution_count": 67,
   "metadata": {},
   "outputs": [],
   "source": [
    "# evects = del_rho.eigenvects()\n",
    "eigensystem = del_rho.eigenvects()\n",
    "\n",
    "#separating eigenvalues of del rho\n",
    "evects_0 = []\n",
    "evals_0 = []\n",
    "\n",
    "for i in range(3):\n",
    "    evals_0.append(eigensystem[i][0])\n",
    "    evects_0.append(eigensystem[i][-1])\n",
    "\n",
    "evals = [sym.re(i) for i in evals_0]\n",
    "\n",
    "norm_del_rho = max([abs(i) for i in evals])     # picking out the largest evalue\n",
    "\n"
   ]
  },
  {
   "cell_type": "code",
   "execution_count": 74,
   "metadata": {},
   "outputs": [
    {
     "data": {
      "text/plain": [
       "[Matrix([\n",
       " [-0.0238170279137322 + 0.0119827494861015*I],\n",
       " [  0.599123558125629 - 0.0126744821682508*I],\n",
       " [ -0.799774442741972 - 0.0232448539150386*I]])]"
      ]
     },
     "execution_count": 74,
     "metadata": {},
     "output_type": "execute_result"
    }
   ],
   "source": [
    "#eigenvalues of rho_num\n",
    "eigensystem_num = sym.Matrix(rho_num).eigenvects()\n",
    "evects_num = []\n",
    "evals_num = []\n",
    "\n",
    "for i in range(3):\n",
    "    evals_num.append(eigensystem_num[i][0])\n",
    "    evects_num.append(eigensystem_num[i][-1])\n",
    "\n",
    "# evals = [sym.re(i) for i in evals_0]\n",
    "evals_num = [sym.re(i) for i in evals_num]\n",
    "\n",
    "zero_eval_rho_num = min(evals_num)                          # picking the minimum evalue \n",
    "zero_eval_index = evals_num.index(zero_eval_rho_num)        # finding index so we can pick the corresponding evector\n",
    "perp_evect_rho_num = evects_num[zero_eval_index]\n",
    "perp_evect_rho_num\n",
    "\n",
    "\n"
   ]
  }
 ],
 "metadata": {
  "kernelspec": {
   "display_name": "Python 3",
   "language": "python",
   "name": "python3"
  },
  "language_info": {
   "codemirror_mode": {
    "name": "ipython",
    "version": 3
   },
   "file_extension": ".py",
   "mimetype": "text/x-python",
   "name": "python",
   "nbconvert_exporter": "python",
   "pygments_lexer": "ipython3",
   "version": "3.11.4"
  },
  "orig_nbformat": 4
 },
 "nbformat": 4,
 "nbformat_minor": 2
}
