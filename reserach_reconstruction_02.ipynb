{
 "cells": [
  {
   "cell_type": "code",
   "execution_count": 2,
   "id": "b9e043d6",
   "metadata": {},
   "outputs": [],
   "source": [
    "import numpy as np\n",
    "import math as m\n",
    "import matplotlib.pyplot as plt\n",
    "import sympy as sym\n",
    "import random as rand\n",
    "import Data\n",
    "import Functions_module_beta as fn\n",
    "from Functions_module_beta import MatrixAction, SystemAction"
   ]
  },
  {
   "cell_type": "code",
   "execution_count": 19,
   "id": "fc25199e",
   "metadata": {},
   "outputs": [
    {
     "name": "stdout",
     "output_type": "stream",
     "text": [
      "[[[1, 0, 1, 0], [0, 1, 0, 1]], [[1, 0, 1, 0], [0, 1, 0, 1]], [[1, 0, 0, 1], [0, 1, 1, 0]], [[1, 0, 0, 1], [0, 1, 1, 0]]]\n",
      "[[sqrt(2)/2, sqrt(2)/2], [sqrt(2)/2, -sqrt(2)/2], [sqrt(2)/2, sqrt(2)/2], [sqrt(2)/2, -sqrt(2)/2]]\n"
     ]
    }
   ],
   "source": [
    "bell_V = [fn.phiplus_V,fn.phiminus_V,fn.psiplus_V,fn.psiminus_V]\n",
    "bell_C = [fn.phiplus_C,fn.phiminus_C,fn.psiplus_C,fn.psiminus_C]\n",
    "print(bell_V)\n",
    "print(bell_C)"
   ]
  },
  {
   "cell_type": "code",
   "execution_count": 3,
   "id": "59556164",
   "metadata": {},
   "outputs": [],
   "source": [
    "bell_V = [fn.phiplus_V,fn.phiminus_V,fn.psiplus_V,fn.psiminus_V]        # list of the vectors for each bell state, below are list of coeffs\n",
    "bell_C = [fn.phiplus_C,fn.phiminus_C,fn.psiplus_C,fn.psiminus_C]\n",
    "\n",
    "\n",
    "mirror_list = [12,13,14,23,24,34]\n",
    "\n",
    "\n",
    "#Chekcs out:  phiplus\n",
    "\n",
    "\n",
    "\n",
    "def radians(degrees):           # degrees  to radians\n",
    "    rad = (sym.pi/180)*degrees\n",
    "    return rad \n",
    "\n",
    "\n",
    "#######_Definitions_######\n",
    "\n",
    "theta = sym.symbols('theta')\n",
    "theta = 43                                          # theta in degrees, default 45 gives Bell states\n",
    "\n",
    "phiplus_like_V = [fn.ten_states_2,fn.ten_states_5]                      #Bell-like vectors\n",
    "phiminus_like_V = [fn.ten_states_2,fn.ten_states_5]\n",
    "psiplus_like_V = [fn.ten_states_3,fn.ten_states_4]\n",
    "psiminus_like_V = [fn.ten_states_3,fn.ten_states_4]\n",
    "\n",
    "phiplus_like_C = [sym.cos(radians(theta)),sym.sin(radians(theta))]              #Bell-like coeffs ie. disturbing C slightly away from the perfect ones in bell states, like theta degrees instead of theta\n",
    "phiminus_like_C = [sym.sin(radians(theta)), -sym.cos(radians(theta))]\n",
    "psiplus_like_C = [sym.cos(radians(theta)),sym.sin(radians(theta))]\n",
    "psiminus_like_C = [sym.sin(radians(theta)), -sym.cos(radians(theta))]\n",
    "\n",
    "bell_like_V = [phiplus_like_V,phiminus_like_V,psiplus_like_V,psiminus_like_V]           # making lists of bell-like vectos (and coeffs) so easier to change them as arguments later\n",
    "bell_like_C = [phiplus_like_C,phiminus_like_C,psiplus_like_C,psiminus_like_C]\n",
    "\n",
    "\n",
    "def bell_like_C(theta = 'theta', state_number = 'all'):          # angle in degrees, default is symbolic calcs\n",
    "    if theta == 'theta':\n",
    "        theta = sym.symbols('theta')\n",
    "    phiplus_like_C = [sym.cos(radians(theta)),sym.sin(radians(theta))]              #Bell-like coeffs ie. disturbing C slightly away from the perfect ones in bell states, like theta degrees instead of theta\n",
    "    phiminus_like_C = [sym.sin(radians(theta)), -sym.cos(radians(theta))]\n",
    "    psiplus_like_C = [sym.cos(radians(theta)),sym.sin(radians(theta))]\n",
    "    psiminus_like_C = [sym.sin(radians(theta)), -sym.cos(radians(theta))]\n",
    "    bell_like_C = [phiplus_like_C,phiminus_like_C,psiplus_like_C,psiminus_like_C]\n",
    "    if state_number != 'all':\n",
    "        return bell_like_C[state_number-1]\n",
    "    return bell_like_C\n",
    "\n",
    "\n",
    "def bell_like_V(theta = sym.symbols('theta'), state_number = 'all'):          # angle in degrees, default is symbolic calcs\n",
    "    bell_like_V = [phiplus_like_V,phiminus_like_V,psiplus_like_V,psiminus_like_V]\n",
    "    if state_number != 'all':\n",
    "        return bell_like_V[state_number-1]\n",
    "    return bell_like_V\n",
    "\n",
    "\n",
    "zz = fn.SystemAction(bell_V[0],bell_C[0], [0,sym.pi/2,sym.pi/4,0,0,0], 34, True)[1]\n",
    "\n",
    "mirr = Data.big_phi_abstract[100]\n"
   ]
  },
  {
   "cell_type": "code",
   "execution_count": 4,
   "id": "b2933a5b",
   "metadata": {},
   "outputs": [
    {
     "name": "stdout",
     "output_type": "stream",
     "text": [
      "[[sqrt(2)/2, sqrt(2)/2], [sqrt(2)/2, -sqrt(2)/2], [sqrt(2)/2, sqrt(2)/2], [sqrt(2)/2, -sqrt(2)/2]]\n"
     ]
    }
   ],
   "source": [
    "# checking\n",
    "print(bell_like_C(45))"
   ]
  },
  {
   "cell_type": "markdown",
   "id": "26fac863",
   "metadata": {},
   "source": [
    "Functions Below:"
   ]
  },
  {
   "cell_type": "code",
   "execution_count": 5,
   "id": "cca809f8",
   "metadata": {},
   "outputs": [],
   "source": [
    "def four_list(splitter_comb, Bell_or_BellLike = 'B',theta = 'theta', rounding = False, compared = False):     # splitter comb is a six-list of the six splitters, change to 'BL' for bell like, change to True for rounding, compared to True if want in output-by-output comparison format \n",
    "    if Bell_or_BellLike == 'B':\n",
    "        Bell_V = bell_V\n",
    "        Bell_C = bell_C\n",
    "    else:\n",
    "        Bell_V = bell_like_V()\n",
    "        Bell_C = bell_like_C(theta)\n",
    "    four_list = []\n",
    "    for i in range(4):\n",
    "        bell_out_C = fn.SystemAction(Bell_V[i],Bell_C[i], splitter_comb, 34, rounding)[1]\n",
    "        four_list.append(bell_out_C)\n",
    "    compared_four_list = [[four_list[i][j] for i in range(4)] for j in range(10)]\n",
    "    if compared == False:\n",
    "        return four_list\n",
    "    else:\n",
    "        return compared_four_list\n",
    "\n",
    "\n",
    "good_avg_prob_choices = []\n",
    "best_avg_prob_choices = []\n",
    "\n",
    "def looping(looping_list): # looping list is the choice list to be looped. Finds the best choices' indices in the looping list, based on the best avg prob.\n",
    "#     full looping_list is simply range(len(Data.big_phi_abstract))\n",
    "    for i in looping_list:\n",
    "        mirr = Data.big_phi_abstract[i]\n",
    "        outs = four_list(mirr)\n",
    "        avg = fn.rounding([fn.AvgProbability(outs)])[0]\n",
    "        if avg >= .24:\n",
    "            good_avg_prob_choices.append(i)         #changed from [avg_prob,i] for simplicity\n",
    "            if avg > .49:\n",
    "                a = set({})\n",
    "                for j in range(10):\n",
    "                    counter = 0\n",
    "                    k_counter = 0\n",
    "                    for k in range(4):\n",
    "                        if outs[k][j] != 0:\n",
    "                            counter += 1\n",
    "                            k_counter += k\n",
    "                    if counter == 1:\n",
    "                        a.add(k_counter+1)\n",
    "                if len(a) >= 3:\n",
    "                    best_avg_prob_choices.append([i])\n",
    "                if len(a) == 4:\n",
    "                    print(f'Surprise!!! 4-state discrim!! Checkout choice #{i}')\n",
    "            if avg > .505:\n",
    "                print(f'Surprise!!! Probablity greater than 1/2!!! Checkout choice #{i}')\n",
    "    return best_avg_prob_choices\n"
   ]
  },
  {
   "cell_type": "code",
   "execution_count": 6,
   "id": "22834fa6",
   "metadata": {},
   "outputs": [],
   "source": [
    "# print(f'Best avg prob choices = {looping(range(len(Data.big_phi_abstract)))}')                      # works. gives list of pairs [avg_prob,i] where avg is the avg prob of the four list corresp to the ith splitter comb of the splitter comb list in Data.py "
   ]
  },
  {
   "cell_type": "code",
   "execution_count": 7,
   "id": "300307ea",
   "metadata": {},
   "outputs": [
    {
     "name": "stdout",
     "output_type": "stream",
     "text": [
      "[[0.0, 0.0, 0.0, -0.5], [0.0, 0.0, 0.0, 0.499999], [0.0, 0.0, -0.707106, 0.0], [0.0, 0.707106, 0.0, 0.0], [0.0, 0.0, 0.0, -0.499999], [0.0, 0.0, 0.0, -0.5], [0.5, -0.5, 0.0, 0.0], [-0.5, 0.0, -0.5, 0.0], [-0.5, 0.0, 0.5, 0.0], [0.5, 0.5, 0.0, 0.0]]\n"
     ]
    }
   ],
   "source": [
    "splitters_1405 = Data.big_phi[1405]\n",
    "\n",
    "\n",
    "print(four_list(splitters_1405, 'B', rounding= True, compared= True))   # this gives three state discrimination"
   ]
  },
  {
   "cell_type": "markdown",
   "id": "62c4afff",
   "metadata": {},
   "source": [
    "\n",
    "\n",
    "[[0.0, 0.0, 0.0, -0.5], \n",
    "[0.0, 0.0, 0.0, 0.499999], \n",
    "[0.0, 0.0, -0.707106, 0.0], \n",
    "[0.0, 0.707106, 0.0, 0.0], \n",
    "[0.0, 0.0, 0.0, -0.499999],\n",
    " [0.0, 0.0, 0.0, -0.5], \n",
    " [0.5, -0.5, 0.0, 0.0], \n",
    " [-0.5, 0.0, -0.5, 0.0], \n",
    " [-0.5, 0.0, 0.5, 0.0], \n",
    " [0.5, 0.5, 0.0, 0.0]]\n",
    "\n",
    "\n",
    "\n",
    "\n",
    "\n",
    "\n",
    "\n",
    "\n",
    "\n",
    "\n",
    "\n",
    "\n"
   ]
  },
  {
   "cell_type": "code",
   "execution_count": 8,
   "id": "63d361b5",
   "metadata": {},
   "outputs": [],
   "source": [
    "best_avg_prob_choices = [1405,1407,1409,1411,1413,1415,1417,1419,1421,1423,1455,1457,1459,1461,1463,1465,1467,1469,1471,1473,1655,1657,1659,1661,1663,1665,1667,1669,1671,1673,1705,1707,1709,1711,1713,1715,1717,1719,1721,1723,2655,2657,2659,2661,2663,2665,2667,2669,2671,2673,2705,2707,2709,2711,2713,2715,2717,2719,2721,2723,2905,2907,2909,2911,2913,2915,2917,2919,2921,2923,2955,2957,2959,2961,2963,2965,2967,2969,2971,2973,7655,7657,7659,7661,7663,7665,7667,7669,7671,7673,7705,7707,7709,7711,7713,7715,7717,7719,7721,7723,7905,7907,7909,7911,7913,7915,7917,7919,7921,7923,7955,7957,7959,7961,7963,7965,7967,7969,7971,7973,8905,8907,8909,8911,8913,8915,8917,8919,8921,8923,8955,8957,8959,8961,8963,8965,8967,8969,8971,8973,9155,9157,9159,9161,9163,9165,9167,9169,9171,9173,9205,9207,9209,9211,9213,9215,9217,9219,9221,9223,13905,13907,13909,13911,13913,13915,13917,13919,13921,13923,13955,13957,13959,13961,13963,13965,13967,13969,13971,13973,14155,14157,14159,14161,14163,14165,14167,14169,14171,14173,14205,14207,14209,14211,14213,14215,14217,14219,14221,14223,15155,15157,15159,15161,15163,15165,15167,15169,15171,15173,15205,15207,15209,15211,15213,15215,15217,15219,15221,15223,15405,15407,15409,15411,15413,15415,15417,15419,15421,15423,15455,15457,15459,15461,15463,15465,15467,15469,15471,15473] \n",
    "# thats what the function gave. defining here so to avoid rerunning"
   ]
  },
  {
   "cell_type": "code",
   "execution_count": 9,
   "id": "93dc8d38",
   "metadata": {},
   "outputs": [
    {
     "name": "stdout",
     "output_type": "stream",
     "text": [
      "choice 1405 compared : [[0.0, 0.0, 0.0, -0.5], [0.0, 0.0, 0.0, 0.5], [0.0, 0.0, -0.707106, 0.0], [0.0, 0.707106, 0.0, 0.0], [0.0, 0.0, 0.0, -0.5], [0.0, 0.0, 0.0, -0.5], [0.5, -0.5, 0.0, 0.0], [-0.5, 0.0, -0.5, 0.0], [-0.5, 0.0, 0.5, 0.0], [0.5, 0.5, 0.0, 0.0]]\n"
     ]
    }
   ],
   "source": [
    "choice = best_avg_prob_choices[0]\n",
    "# print(f'choice {choice} : {four_list(Data.big_phi_abstract[choice], rounding = True)}')\n",
    "print(f'choice {choice} compared : {four_list(Data.big_phi_abstract[choice], rounding = True, compared = True)}')\n"
   ]
  },
  {
   "cell_type": "code",
   "execution_count": 10,
   "id": "22b8a86a",
   "metadata": {},
   "outputs": [
    {
     "data": {
      "text/latex": [
       "$\\displaystyle 0.500000000000002$"
      ],
      "text/plain": [
       "0.500000000000002"
      ]
     },
     "execution_count": 10,
     "metadata": {},
     "output_type": "execute_result"
    }
   ],
   "source": [
    "fn.AvgProbability(four_list(Data.big_phi_abstract[1405]))"
   ]
  },
  {
   "cell_type": "code",
   "execution_count": 12,
   "id": "336ebe37",
   "metadata": {},
   "outputs": [],
   "source": [
    "# print(f'choice {choice} compared : {four_list(Data.big_phi_abstract[choice],Bell_or_BellLike= \"BL\", rounding = True, compared = True)}')"
   ]
  },
  {
   "cell_type": "markdown",
   "id": "0e837886",
   "metadata": {},
   "source": [
    "############################################################################\n",
    "\n",
    "Below is Bell_like_thetaVsConfidence: \n",
    "\n",
    "###########################################################################"
   ]
  },
  {
   "cell_type": "code",
   "execution_count": 13,
   "id": "16d089d2",
   "metadata": {},
   "outputs": [],
   "source": [
    "def Confidence(L, port = 1, state_number = 'all' , priors = [.25,.25,.25,.25]):       # L is an output 'compared' list (ie. list of 10 lists of each 4 elts), port is the output number for which confidence is to be calctd: by default 1,priors is a list of 4 the prior prob of the four input states- by default [.25,.25,.25,.25]\n",
    "    A = L[port-1]         # port starts from 1, not zero\n",
    "    denominator_prob = sum([priors[j]*(A[j])**2 for j in range(len(A))])\n",
    "    confidence = [(priors[i]*(A[i])**2 )/denominator_prob for i in range(len(A))]\n",
    "    if state_number != 'all':\n",
    "        return confidence[state_number-1]\n",
    "    return confidence"
   ]
  },
  {
   "cell_type": "code",
   "execution_count": 14,
   "id": "67326194",
   "metadata": {},
   "outputs": [
    {
     "data": {
      "text/plain": [
       "[0.49939106372779696,\n",
       " 0.0006089362722030626,\n",
       " 0.49939106372779696,\n",
       " 0.0006089362722030626]"
      ]
     },
     "execution_count": 14,
     "metadata": {},
     "output_type": "execute_result"
    }
   ],
   "source": [
    "xx = [[0.0, 0.0, -0.017449, -0.499695], [0.0, 0.0, 0.017449, 0.499695], [0.0, 0.0, -0.706676, 0.024677], [0.024677, 0.706676, 0.0, 0.0], [0.0, 0.0, -0.017449, -0.499695], [0.0, 0.0, -0.017449, -0.499695], [0.482245, -0.517145, 0.0, 0.0], [-0.499695, 0.017449, -0.499695, 0.017449], [-0.499695, 0.017449, 0.499695, -0.017449], [0.517145, 0.482245, 0.0, 0.0]]\n",
    "Confidence(xx, -1)"
   ]
  },
  {
   "cell_type": "code",
   "execution_count": 15,
   "id": "bc19363c",
   "metadata": {},
   "outputs": [
    {
     "name": "stdout",
     "output_type": "stream",
     "text": [
      "bell_like, OG: 3.999994713718,3.999997790472\n"
     ]
    }
   ],
   "source": [
    "xx0 = [[0.0, 0.0, 0.0, -0.5], [0.0, 0.0, 0.0, 0.5], [0.0, 0.0, -0.707106, 0.0], [0.0, 0.707106, 0.0, 0.0], [0.0, 0.0, 0.0, -0.5], [0.0, 0.0, 0.0, -0.5], [0.5, -0.5, 0.0, 0.0], [-0.5, 0.0, -0.5, 0.0], [-0.5, 0.0, 0.5, 0.0], [0.5, 0.5, 0.0, 0.0]]\n",
    "xxnp = np.array(xx0)\n",
    "total_prob_new = ((np.array(xx))**2).sum()\n",
    "total_prob = (xxnp**2).sum()\n",
    "print(f'bell_like, OG: {total_prob_new},{total_prob}')\n"
   ]
  },
  {
   "cell_type": "markdown",
   "id": "975d91a6",
   "metadata": {},
   "source": [
    "### Making graphs"
   ]
  },
  {
   "cell_type": "markdown",
   "id": "0de074cd",
   "metadata": {},
   "source": [
    "1. confidence of state 3 on detector 3, for varying theta: from bell to bell like to comp basis states"
   ]
  },
  {
   "cell_type": "code",
   "execution_count": 16,
   "id": "bee3a4bd",
   "metadata": {},
   "outputs": [
    {
     "name": "stdout",
     "output_type": "stream",
     "text": [
      "True\n"
     ]
    }
   ],
   "source": [
    "# checking if the functions work\n",
    "aa =four_list(Data.big_phi_abstract[1405], Bell_or_BellLike= 'BL', theta= 43, rounding= True, compared= True)\n",
    "\n",
    "print(aa == [[0.0, 0.0, -0.017449, -0.499695], [0.0, 0.0, 0.017449, 0.499695], [0.0, 0.0, -0.706676, 0.024677], [0.024677, 0.706676, 0.0, 0.0], [0.0, 0.0, -0.017449, -0.499695], [0.0, 0.0, -0.017449, -0.499695], [0.482245, -0.517145, 0.0, 0.0], [-0.499695, 0.017449, -0.499695, 0.017449], [-0.499695, 0.017449, 0.499695, -0.017449], [0.517145, 0.482245, 0.0, 0.0]])"
   ]
  },
  {
   "cell_type": "code",
   "execution_count": 17,
   "id": "db5faf6d",
   "metadata": {},
   "outputs": [
    {
     "data": {
      "text/plain": [
       "<matplotlib.legend.Legend at 0x142bb9150>"
      ]
     },
     "execution_count": 17,
     "metadata": {},
     "output_type": "execute_result"
    },
    {
     "data": {
      "image/png": "[encoded data removed]",
      "text/plain": [
       "<Figure size 640x480 with 1 Axes>"
      ]
     },
     "metadata": {},
     "output_type": "display_data"
    }
   ],
   "source": [
    "x = []\n",
    "y = []\n",
    "theta_list = np.linspace(45,0,451)\n",
    "splitters_choice = Data.big_phi_abstract[1405]\n",
    "third_detector_outs = [four_list(splitters_choice, Bell_or_BellLike= 'BL', theta= i, rounding= True, compared= True) for i in theta_list]\n",
    "confidence_list = [Confidence(i, port=3, state_number= 3) for i in third_detector_outs]\n",
    "# confidence_list = [((i[2][2])**2/(sum([j**2 for j in i[2]]))) for i in third_detector_outs]    # alternate, direct way\n",
    "plt.plot(theta_list, np.sin((theta_list)*np.pi/180),'--g', label = \"sine\");\n",
    "plt.plot(theta_list, (np.sin(theta_list*np.pi/180))**2,'-.y', label = \"sine_squared\");\n",
    "plt.plot(theta_list,confidence_list, '-k', label = \"confidence\");\n",
    "plt.title('Confidence vs angle, choice#1405, third deterctor, for #3 state (psi_plus)')\n",
    "plt.ylabel('Confidence')\n",
    "plt.xlabel('theta (in degrees)')\n",
    "plt.legend()\n"
   ]
  },
  {
   "cell_type": "markdown",
   "id": "3f7e1b9f",
   "metadata": {},
   "source": [
    "3D plots"
   ]
  },
  {
   "cell_type": "markdown",
   "id": "9f5d63a4",
   "metadata": {},
   "source": []
  },
  {
   "cell_type": "code",
   "execution_count": null,
   "id": "d488e897",
   "metadata": {},
   "outputs": [
    {
     "name": "stdout",
     "output_type": "stream",
     "text": [
      "hi\n"
     ]
    }
   ],
   "source": [
    "print('hi')"
   ]
  },
  {
   "cell_type": "code",
   "execution_count": null,
   "id": "aedf529e",
   "metadata": {},
   "outputs": [],
   "source": []
  }
 ],
 "metadata": {
  "kernelspec": {
   "display_name": "Python 3 (ipykernel)",
   "language": "python",
   "name": "python3"
  },
  "language_info": {
   "codemirror_mode": {
    "name": "ipython",
    "version": 3
   },
   "file_extension": ".py",
   "mimetype": "text/x-python",
   "name": "python",
   "nbconvert_exporter": "python",
   "pygments_lexer": "ipython3",
   "version": "3.11.4"
  }
 },
 "nbformat": 4,
 "nbformat_minor": 5
}
