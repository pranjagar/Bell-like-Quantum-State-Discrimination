{
 "cells": [
  {
   "cell_type": "code",
   "execution_count": 1,
   "id": "ea6ce0a8",
   "metadata": {},
   "outputs": [],
   "source": [
    "import numpy as np\n",
    "import math as m\n",
    "import matplotlib.pyplot as plt\n",
    "import matplotlib.animation as ani\n",
    "from matplotlib import cm\n",
    "import sympy as sym\n",
    "import random as rand\n",
    "import Data\n",
    "\n",
    "import Functions_module_beta as fn\n",
    "from Functions_module_beta import MatrixAction, SystemAction\n",
    "import custom_functions_01 as cfn\n",
    "from custom_functions_01 import avg_prob_with_confidence"
   ]
  },
  {
   "cell_type": "code",
   "execution_count": 7,
   "id": "4daecdf1",
   "metadata": {},
   "outputs": [
    {
     "data": {
      "text/plain": [
       "[cos(2*phi), 0, 0, 0, 0, 0, sqrt(2)*sin(2*phi)/2, -sqrt(2)*sin(2*phi)/2, 0, 0]"
      ]
     },
     "execution_count": 7,
     "metadata": {},
     "output_type": "execute_result"
    }
   ],
   "source": [
    "fn.equations12(fn.TenStateBasis[0],1, False)  # Exampele equation. We'll loop this over the set of 10 basis states to find the 10 equations and then find the matrix."
   ]
  },
  {
   "cell_type": "code",
   "execution_count": 10,
   "id": "b3229bcc",
   "metadata": {},
   "outputs": [
    {
     "name": "stdout",
     "output_type": "stream",
     "text": [
      "Set of Equations =  [[cos(2*phi), 0, 0, 0, 0, 0, sqrt(2)*sin(2*phi)/2, -sqrt(2)*sin(2*phi)/2, 0, 0], [0, cos(phi), 0, -sin(phi), 0, 0, 0, 0, 0, 0], [0, 0, cos(phi), 0, -sin(phi), 0, 0, 0, 0, 0], [0, sin(phi), 0, cos(phi), 0, 0, 0, 0, 0, 0], [0, 0, sin(phi), 0, cos(phi), 0, 0, 0, 0, 0], [0, 0, 0, 0, 0, 1, 0, 0, 0, 0], [-sqrt(2)*sin(2*phi)/2, 0, 0, 0, 0, 0, cos(phi)**2, sin(phi)**2, 0, 0], [sqrt(2)*sin(2*phi)/2, 0, 0, 0, 0, 0, sin(phi)**2, cos(phi)**2, 0, 0], [0, 0, 0, 0, 0, 0, 0, 0, 1, 0], [0, 0, 0, 0, 0, 0, 0, 0, 0, 1]]\n",
      "Matrix12= \n",
      " [[cos(2*phi) 0 0 0 0 0 -sqrt(2)*sin(2*phi)/2 sqrt(2)*sin(2*phi)/2 0 0]\n",
      " [0 cos(phi) 0 sin(phi) 0 0 0 0 0 0]\n",
      " [0 0 cos(phi) 0 sin(phi) 0 0 0 0 0]\n",
      " [0 -sin(phi) 0 cos(phi) 0 0 0 0 0 0]\n",
      " [0 0 -sin(phi) 0 cos(phi) 0 0 0 0 0]\n",
      " [0 0 0 0 0 1 0 0 0 0]\n",
      " [sqrt(2)*sin(2*phi)/2 0 0 0 0 0 cos(phi)**2 sin(phi)**2 0 0]\n",
      " [-sqrt(2)*sin(2*phi)/2 0 0 0 0 0 sin(phi)**2 cos(phi)**2 0 0]\n",
      " [0 0 0 0 0 0 0 0 1 0]\n",
      " [0 0 0 0 0 0 0 0 0 1]]\n"
     ]
    }
   ],
   "source": [
    "Matrix_12 = []\n",
    "for i in fn.TenStateBasis:\n",
    "    ith_column = fn.equations12(i,1,False)   # produces effect of sending in ith basis vector\n",
    "    Matrix_12.append(ith_column)\n",
    "print('Set of Equations = ',Matrix_12)    # the equations corresponding to M12, the matrix would be transpose\n",
    "\n",
    "Matrix12 = np.transpose(np.array(Matrix_12))\n",
    "print('\\n Matrix12= \\n',Matrix12)   # M12 matrix"
   ]
  },
  {
   "cell_type": "markdown",
   "id": "4774a9da",
   "metadata": {},
   "source": [
    "Doing this for the remaining matrices:"
   ]
  },
  {
   "cell_type": "code",
   "execution_count": 13,
   "id": "6b32a445",
   "metadata": {},
   "outputs": [
    {
     "name": "stdout",
     "output_type": "stream",
     "text": [
      "\n",
      " \n",
      " Set of Equations =  [[cos(phi), 0, 0, -sin(phi), 0, 0, 0, 0, 0, 0], [0, cos(2*phi), 0, 0, 0, 0, sqrt(2)*sin(2*phi)/2, 0, -sqrt(2)*sin(2*phi)/2, 0], [0, 0, cos(phi), 0, 0, -sin(phi), 0, 0, 0, 0], [sin(phi), 0, 0, cos(phi), 0, 0, 0, 0, 0, 0], [0, 0, 0, 0, 1, 0, 0, 0, 0, 0], [0, 0, sin(phi), 0, 0, cos(phi), 0, 0, 0, 0], [0, -sqrt(2)*sin(2*phi)/2, 0, 0, 0, 0, cos(phi)**2, 0, sin(phi)**2, 0], [0, 0, 0, 0, 0, 0, 0, 1, 0, 0], [0, sqrt(2)*sin(2*phi)/2, 0, 0, 0, 0, sin(phi)**2, 0, cos(phi)**2, 0], [0, 0, 0, 0, 0, 0, 0, 0, 0, 1]]\n",
      "\n",
      " MATRIX13= \n",
      " [[cos(phi) 0 0 sin(phi) 0 0 0 0 0 0]\n",
      " [0 cos(2*phi) 0 0 0 0 -sqrt(2)*sin(2*phi)/2 0 sqrt(2)*sin(2*phi)/2 0]\n",
      " [0 0 cos(phi) 0 0 sin(phi) 0 0 0 0]\n",
      " [-sin(phi) 0 0 cos(phi) 0 0 0 0 0 0]\n",
      " [0 0 0 0 1 0 0 0 0 0]\n",
      " [0 0 -sin(phi) 0 0 cos(phi) 0 0 0 0]\n",
      " [0 sqrt(2)*sin(2*phi)/2 0 0 0 0 cos(phi)**2 0 sin(phi)**2 0]\n",
      " [0 0 0 0 0 0 0 1 0 0]\n",
      " [0 -sqrt(2)*sin(2*phi)/2 0 0 0 0 sin(phi)**2 0 cos(phi)**2 0]\n",
      " [0 0 0 0 0 0 0 0 0 1]]\n",
      "\n",
      " \n",
      " Set of Equations =  [[cos(phi), 0, 0, 0, -sin(phi), 0, 0, 0, 0, 0], [0, cos(phi), 0, 0, 0, -sin(phi), 0, 0, 0, 0], [0, 0, -sin(phi)**2 + cos(phi)**2, 0, 0, 0, 1.4142135623731*sin(phi)*cos(phi), 0, 0, -1.4142135623731*sin(phi)*cos(phi)], [0, 0, 0, 1, 0, 0, 0, 0, 0, 0], [sin(phi), 0, 0, 0, cos(phi), 0, 0, 0, 0, 0], [0, sin(phi), 0, 0, 0, cos(phi), 0, 0, 0, 0], [0, 0, -1.4142135623731*sin(phi)*cos(phi), 0, 0, 0, cos(phi)**2, 0, 0, sin(phi)**2], [0, 0, 0, 0, 0, 0, 0, 1, 0, 0], [0, 0, 0, 0, 0, 0, 0, 0, 1, 0], [0, 0, 1.4142135623731*sin(phi)*cos(phi), 0, 0, 0, sin(phi)**2, 0, 0, cos(phi)**2]]\n",
      "\n",
      " MATRIX14= \n",
      " [[cos(phi) 0 0 0 sin(phi) 0 0 0 0 0]\n",
      " [0 cos(phi) 0 0 0 sin(phi) 0 0 0 0]\n",
      " [0 0 -sin(phi)**2 + cos(phi)**2 0 0 0 -1.4142135623731*sin(phi)*cos(phi)\n",
      "  0 0 1.4142135623731*sin(phi)*cos(phi)]\n",
      " [0 0 0 1 0 0 0 0 0 0]\n",
      " [-sin(phi) 0 0 0 cos(phi) 0 0 0 0 0]\n",
      " [0 -sin(phi) 0 0 0 cos(phi) 0 0 0 0]\n",
      " [0 0 1.4142135623731*sin(phi)*cos(phi) 0 0 0 cos(phi)**2 0 0 sin(phi)**2]\n",
      " [0 0 0 0 0 0 0 1 0 0]\n",
      " [0 0 0 0 0 0 0 0 1 0]\n",
      " [0 0 -1.4142135623731*sin(phi)*cos(phi) 0 0 0 sin(phi)**2 0 0\n",
      "  cos(phi)**2]]\n",
      "\n",
      " \n",
      " Set of Equations =  [[cos(phi), -sin(phi), 0, 0, 0, 0, 0, 0, 0, 0], [sin(phi), cos(phi), 0, 0, 0, 0, 0, 0, 0, 0], [0, 0, 1, 0, 0, 0, 0, 0, 0, 0], [0, 0, 0, -sin(phi)**2 + cos(phi)**2, 0, 0, 0, 1.4142135623731*sin(phi)*cos(phi), -1.4142135623731*sin(phi)*cos(phi), 0], [0, 0, 0, 0, cos(phi), -sin(phi), 0, 0, 0, 0], [0, 0, 0, 0, sin(phi), cos(phi), 0, 0, 0, 0], [0, 0, 0, 0, 0, 0, 1, 0, 0, 0], [0, 0, 0, -1.4142135623731*sin(phi)*cos(phi), 0, 0, 0, cos(phi)**2, sin(phi)**2, 0], [0, 0, 0, 1.4142135623731*sin(phi)*cos(phi), 0, 0, 0, sin(phi)**2, cos(phi)**2, 0], [0, 0, 0, 0, 0, 0, 0, 0, 0, 1]]\n",
      "\n",
      " MATRIX23= \n",
      " [[cos(phi) sin(phi) 0 0 0 0 0 0 0 0]\n",
      " [-sin(phi) cos(phi) 0 0 0 0 0 0 0 0]\n",
      " [0 0 1 0 0 0 0 0 0 0]\n",
      " [0 0 0 -sin(phi)**2 + cos(phi)**2 0 0 0\n",
      "  -1.4142135623731*sin(phi)*cos(phi) 1.4142135623731*sin(phi)*cos(phi) 0]\n",
      " [0 0 0 0 cos(phi) sin(phi) 0 0 0 0]\n",
      " [0 0 0 0 -sin(phi) cos(phi) 0 0 0 0]\n",
      " [0 0 0 0 0 0 1 0 0 0]\n",
      " [0 0 0 1.4142135623731*sin(phi)*cos(phi) 0 0 0 cos(phi)**2 sin(phi)**2 0]\n",
      " [0 0 0 -1.4142135623731*sin(phi)*cos(phi) 0 0 0 sin(phi)**2 cos(phi)**2\n",
      "  0]\n",
      " [0 0 0 0 0 0 0 0 0 1]]\n",
      "\n",
      " \n",
      " Set of Equations =  [[cos(phi), 0, -sin(phi), 0, 0, 0, 0, 0, 0, 0], [0, 1, 0, 0, 0, 0, 0, 0, 0, 0], [sin(phi), 0, cos(phi), 0, 0, 0, 0, 0, 0, 0], [0, 0, 0, cos(phi), 0, -sin(phi), 0, 0, 0, 0], [0, 0, 0, 0, -sin(phi)**2 + cos(phi)**2, 0, 0, 1.4142135623731*sin(phi)*cos(phi), 0, -1.4142135623731*sin(phi)*cos(phi)], [0, 0, 0, sin(phi), 0, cos(phi), 0, 0, 0, 0], [0, 0, 0, 0, 0, 0, 1, 0, 0, 0], [0, 0, 0, 0, -1.4142135623731*sin(phi)*cos(phi), 0, 0, cos(phi)**2, 0, sin(phi)**2], [0, 0, 0, 0, 0, 0, 0, 0, 1, 0], [0, 0, 0, 0, 1.4142135623731*sin(phi)*cos(phi), 0, 0, sin(phi)**2, 0, cos(phi)**2]]\n",
      "\n",
      " MATRIX24= \n",
      " [[cos(phi) 0 sin(phi) 0 0 0 0 0 0 0]\n",
      " [0 1 0 0 0 0 0 0 0 0]\n",
      " [-sin(phi) 0 cos(phi) 0 0 0 0 0 0 0]\n",
      " [0 0 0 cos(phi) 0 sin(phi) 0 0 0 0]\n",
      " [0 0 0 0 -sin(phi)**2 + cos(phi)**2 0 0\n",
      "  -1.4142135623731*sin(phi)*cos(phi) 0 1.4142135623731*sin(phi)*cos(phi)]\n",
      " [0 0 0 -sin(phi) 0 cos(phi) 0 0 0 0]\n",
      " [0 0 0 0 0 0 1 0 0 0]\n",
      " [0 0 0 0 1.4142135623731*sin(phi)*cos(phi) 0 0 cos(phi)**2 0 sin(phi)**2]\n",
      " [0 0 0 0 0 0 0 0 1 0]\n",
      " [0 0 0 0 -1.4142135623731*sin(phi)*cos(phi) 0 0 sin(phi)**2 0\n",
      "  cos(phi)**2]]\n",
      "\n",
      " \n",
      " Set of Equations =  [[1, 0, 0, 0, 0, 0, 0, 0, 0, 0], [0, cos(phi), -sin(phi), 0, 0, 0, 0, 0, 0, 0], [0, sin(phi), cos(phi), 0, 0, 0, 0, 0, 0, 0], [0, 0, 0, cos(phi), -sin(phi), 0, 0, 0, 0, 0], [0, 0, 0, sin(phi), cos(phi), 0, 0, 0, 0, 0], [0, 0, 0, 0, 0, -sin(phi)**2 + cos(phi)**2, 0, 0, 1.4142135623731*sin(phi)*cos(phi), -1.4142135623731*sin(phi)*cos(phi)], [0, 0, 0, 0, 0, 0, 1, 0, 0, 0], [0, 0, 0, 0, 0, 0, 0, 1, 0, 0], [0, 0, 0, 0, 0, -1.4142135623731*sin(phi)*cos(phi), 0, 0, cos(phi)**2, sin(phi)**2], [0, 0, 0, 0, 0, 1.4142135623731*sin(phi)*cos(phi), 0, 0, sin(phi)**2, cos(phi)**2]]\n",
      "\n",
      " MATRIX34= \n",
      " [[1 0 0 0 0 0 0 0 0 0]\n",
      " [0 cos(phi) sin(phi) 0 0 0 0 0 0 0]\n",
      " [0 -sin(phi) cos(phi) 0 0 0 0 0 0 0]\n",
      " [0 0 0 cos(phi) sin(phi) 0 0 0 0 0]\n",
      " [0 0 0 -sin(phi) cos(phi) 0 0 0 0 0]\n",
      " [0 0 0 0 0 -sin(phi)**2 + cos(phi)**2 0 0\n",
      "  -1.4142135623731*sin(phi)*cos(phi) 1.4142135623731*sin(phi)*cos(phi)]\n",
      " [0 0 0 0 0 0 1 0 0 0]\n",
      " [0 0 0 0 0 0 0 1 0 0]\n",
      " [0 0 0 0 0 1.4142135623731*sin(phi)*cos(phi) 0 0 cos(phi)**2 sin(phi)**2]\n",
      " [0 0 0 0 0 -1.4142135623731*sin(phi)*cos(phi) 0 0 sin(phi)**2\n",
      "  cos(phi)**2]]\n"
     ]
    }
   ],
   "source": [
    "Matrix_13 = []\n",
    "for i in fn.TenStateBasis:\n",
    "    ith_column = fn.equations13(i,1,False)   # produces effect of sending in ith basis vector\n",
    "    Matrix_13.append(ith_column)\n",
    "print('\\n \\n Set of Equations = ',Matrix_13)    # the equations corresponding to M13, the matrix would be transpose\n",
    "\n",
    "Matrix13 = np.transpose(np.array(Matrix_13))\n",
    "print('\\n MATRIX13= \\n',Matrix13)   # M13 matrix\n",
    "\n",
    "\n",
    "\n",
    "Matrix_14 = []\n",
    "for i in fn.TenStateBasis:\n",
    "    ith_column = fn.equations14(i,1,False)   # produces effect of sending in ith basis vector\n",
    "    Matrix_14.append(ith_column)\n",
    "print('\\n \\n Set of Equations = ',Matrix_14)    # the equations corresponding to M14, the matrix would be transpose\n",
    "\n",
    "Matrix14 = np.transpose(np.array(Matrix_14))\n",
    "print('\\n MATRIX14= \\n',Matrix14)   # M14 matrix\n",
    "\n",
    "\n",
    "Matrix_23 = []\n",
    "for i in fn.TenStateBasis:\n",
    "    ith_column = fn.equations23(i,1,False)   # produces effect of sending in ith basis vector\n",
    "    Matrix_23.append(ith_column)\n",
    "print('\\n \\n Set of Equations = ',Matrix_23)    # the equations corresponding to M23, the matrix would be transpose\n",
    "\n",
    "Matrix23 = np.transpose(np.array(Matrix_23))\n",
    "print('\\n MATRIX23= \\n',Matrix23)   # M23 matrix\n",
    "\n",
    "\n",
    "Matrix_24 = []\n",
    "for i in fn.TenStateBasis:\n",
    "    ith_column = fn.equations24(i,1,False)   # produces effect of sending in ith basis vector\n",
    "    Matrix_24.append(ith_column)\n",
    "print('\\n \\n Set of Equations = ',Matrix_24)    # the equations corresponding to M24, the matrix would be transpose\n",
    "\n",
    "Matrix24 = np.transpose(np.array(Matrix_24))\n",
    "print('\\n MATRIX24= \\n',Matrix24)   # M24 matrix\n",
    "\n",
    "Matrix_34 = []\n",
    "for i in fn.TenStateBasis:\n",
    "    ith_column = fn.equations34(i,1,False)   # produces effect of sending in ith basis vector\n",
    "    Matrix_34.append(ith_column)\n",
    "print('\\n \\n Set of Equations = ',Matrix_34)    # the equations corresponding to M34, the matrix would be transpose\n",
    "\n",
    "Matrix34 = np.transpose(np.array(Matrix_34))\n",
    "print('\\n MATRIX34= \\n',Matrix34)   # M34 matrix"
   ]
  },
  {
   "cell_type": "code",
   "execution_count": 23,
   "id": "87e163be",
   "metadata": {},
   "outputs": [
    {
     "name": "stdout",
     "output_type": "stream",
     "text": [
      "[[cos(2*phi) 0 0 0 0 0 -sqrt(2)*sin(2*phi)/2 sqrt(2)*sin(2*phi)/2 0 0]\n",
      " [0 cos(phi) 0 sin(phi) 0 0 0 0 0 0]\n",
      " [0 0 cos(phi) 0 sin(phi) 0 0 0 0 0]\n",
      " [0 -sin(phi) 0 cos(phi) 0 0 0 0 0 0]\n",
      " [0 0 -sin(phi) 0 cos(phi) 0 0 0 0 0]\n",
      " [0 0 0 0 0 1 0 0 0 0]\n",
      " [sqrt(2)*sin(2*phi)/2 0 0 0 0 0 cos(phi)**2 sin(phi)**2 0 0]\n",
      " [-sqrt(2)*sin(2*phi)/2 0 0 0 0 0 sin(phi)**2 cos(phi)**2 0 0]\n",
      " [0 0 0 0 0 0 0 0 1 0]\n",
      " [0 0 0 0 0 0 0 0 0 1]]\n"
     ]
    },
    {
     "data": {
      "text/plain": [
       "array([cos(2*phi), 0, 0, 0, 0, 0, -sqrt(2)*sin(2*phi)/2,\n",
       "       sqrt(2)*sin(2*phi)/2, 0, 0, 0, cos(phi), 0, sin(phi), 0, 0, 0, 0,\n",
       "       0, 0, 0, 0, cos(phi), 0, sin(phi), 0, 0, 0, 0, 0, 0, -sin(phi), 0,\n",
       "       cos(phi), 0, 0, 0, 0, 0, 0, 0, 0, -sin(phi), 0, cos(phi), 0, 0, 0,\n",
       "       0, 0, 0, 0, 0, 0, 0, 1, 0, 0, 0, 0, sqrt(2)*sin(2*phi)/2, 0, 0, 0,\n",
       "       0, 0, cos(phi)**2, sin(phi)**2, 0, 0, -sqrt(2)*sin(2*phi)/2, 0, 0,\n",
       "       0, 0, 0, sin(phi)**2, cos(phi)**2, 0, 0, 0, 0, 0, 0, 0, 0, 0, 0, 1,\n",
       "       0, 0, 0, 0, 0, 0, 0, 0, 0, 0, 1], dtype=object)"
      ]
     },
     "execution_count": 23,
     "metadata": {},
     "output_type": "execute_result"
    }
   ],
   "source": [
    "print(Matrix12)\n",
    "Matrix12.flatten()\n",
    "# type(Matrix12)\n",
    "# Matrix12_list = list(np.flatten(Matrix12))\n",
    "# Matrix12_list"
   ]
  },
  {
   "cell_type": "code",
   "execution_count": null,
   "id": "b268ecf2",
   "metadata": {},
   "outputs": [],
   "source": []
  }
 ],
 "metadata": {
  "kernelspec": {
   "display_name": "Python 3 (ipykernel)",
   "language": "python",
   "name": "python3"
  },
  "language_info": {
   "codemirror_mode": {
    "name": "ipython",
    "version": 3
   },
   "file_extension": ".py",
   "mimetype": "text/x-python",
   "name": "python",
   "nbconvert_exporter": "python",
   "pygments_lexer": "ipython3",
   "version": "3.9.13"
  }
 },
 "nbformat": 4,
 "nbformat_minor": 5
}
