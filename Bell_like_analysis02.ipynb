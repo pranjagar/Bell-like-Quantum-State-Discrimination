{
 "cells": [
  {
   "cell_type": "code",
   "execution_count": 6,
   "id": "f7730983",
   "metadata": {},
   "outputs": [],
   "source": [
    "import numpy as np\n",
    "import math as m\n",
    "import matplotlib.pyplot as plt\n",
    "import matplotlib.animation as ani\n",
    "import sympy as sym\n",
    "import random as rand\n",
    "import Data\n",
    "import Functions_module_beta as fn\n",
    "from Functions_module_beta import MatrixAction, SystemAction\n",
    "import custom_functions_01 as cfn\n",
    "from custom_functions_01 import avg_prob_with_confidence\n"
   ]
  },
  {
   "cell_type": "code",
   "execution_count": null,
   "id": "7443a807",
   "metadata": {},
   "outputs": [],
   "source": []
  },
  {
   "cell_type": "code",
   "execution_count": 7,
   "id": "c69d6300",
   "metadata": {},
   "outputs": [],
   "source": [
    "theta_list = np.linspace(0,45,451)\n",
    "np.transpose(theta_list);"
   ]
  },
  {
   "cell_type": "code",
   "execution_count": 8,
   "id": "1c0fc892",
   "metadata": {},
   "outputs": [],
   "source": [
    "ticks = [0,5,10,20,30,40,45]\n",
    "# ticks = list(np.arange(0,46,3))\n",
    "# ticks.append(45)\n",
    "ticks;"
   ]
  },
  {
   "cell_type": "code",
   "execution_count": 9,
   "id": "13a9accc",
   "metadata": {},
   "outputs": [
    {
     "data": {
      "image/png": "[encoded data removed]",
      "text/plain": [
       "<Figure size 640x480 with 1 Axes>"
      ]
     },
     "metadata": {},
     "output_type": "display_data"
    }
   ],
   "source": [
    "# keeping original, do not change\n",
    "c = 1\n",
    "confidence_y = [avg_prob_with_confidence(index_729=200, theta= i , confidence = c) for i in theta_list]\n",
    "plt.title(f'Average probability with confidence {c} vs theta')\n",
    "# ticks = list(np.linspace(0,45,46))\n",
    "plt.xticks(ticks)\n",
    "plt.plot(theta_list, confidence_y);"
   ]
  },
  {
   "cell_type": "markdown",
   "id": "ef3ef022",
   "metadata": {},
   "source": [
    "###Bunch of Graphs below"
   ]
  },
  {
   "cell_type": "code",
   "execution_count": null,
   "id": "33994041",
   "metadata": {},
   "outputs": [],
   "source": [
    "# reproducing unambiguous discrimination\n",
    "ticks = [0,5,10,20,30,40,45]\n",
    "c = 1\n",
    "confidence_y = [avg_prob_with_confidence(index_729=200, theta= i , confidence = c, machine_uncertainty=.000000001) for i in theta_list]\n",
    "plt.title(f\"Average probability with confidence {c} vs $ \\Theta $\")\n",
    "# ticks = list(np.linspace(0,45,46))\n",
    "plt.xticks(ticks)\n",
    "plt.ylabel('Avg. probability')\n",
    "plt.xlabel(r\"$\\theta$ (in degrees)\")\n",
    "plt.plot(theta_list, confidence_y);"
   ]
  },
  {
   "cell_type": "code",
   "execution_count": null,
   "id": "5f4e1cd5",
   "metadata": {},
   "outputs": [],
   "source": [
    "# reproducing unambiguous discrimination\n",
    "ticks = [0,2,5,10,20,30,40,42,45]\n",
    "c = .99\n",
    "confidence_y = [avg_prob_with_confidence(index_729=200, theta= i , confidence = c, machine_uncertainty=.000000001) for i in theta_list]\n",
    "plt.title(f'Average probability with confidence {c} vs theta')\n",
    "# ticks = list(np.linspace(0,45,46))\n",
    "plt.xticks(ticks)\n",
    "plt.ylabel('Avg. probability')\n",
    "plt.xlabel('theta (in degrees)')\n",
    "plt.plot(theta_list, confidence_y);"
   ]
  },
  {
   "cell_type": "code",
   "execution_count": null,
   "id": "6a2f91e2",
   "metadata": {},
   "outputs": [],
   "source": [
    "# reproducing unambiguous discrimination\n",
    "ticks = [0,2,5,10,20,30,40,42,45]\n",
    "c = .97\n",
    "confidence_y = [avg_prob_with_confidence(index_729=200, theta= i , confidence = c, machine_uncertainty=.000000001) for i in theta_list]\n",
    "plt.title(f'Average probability with confidence {c} vs theta')\n",
    "# ticks = list(np.linspace(0,45,46))\n",
    "plt.xticks(ticks)\n",
    "plt.ylabel('Avg. probability')\n",
    "plt.xlabel('theta (in degrees)')\n",
    "plt.plot(theta_list, confidence_y);"
   ]
  },
  {
   "cell_type": "code",
   "execution_count": null,
   "id": "1b4a26a3",
   "metadata": {},
   "outputs": [],
   "source": [
    "# reproducing unambiguous discrimination\n",
    "ticks = [0,2,5,10,20,30,40,42,45]\n",
    "c = .94\n",
    "confidence_y = [avg_prob_with_confidence(index_729=200, theta= i , confidence = c, machine_uncertainty=.000000001) for i in theta_list]\n",
    "plt.title(f'Average probability with confidence {c} vs theta')\n",
    "# ticks = list(np.linspace(0,45,46))\n",
    "plt.xticks(ticks)\n",
    "plt.ylabel('Avg. probability')\n",
    "plt.xlabel('theta (in degrees)')\n",
    "plt.plot(theta_list, confidence_y);"
   ]
  },
  {
   "cell_type": "code",
   "execution_count": null,
   "id": "9c00daf7",
   "metadata": {},
   "outputs": [],
   "source": [
    "# reproducing unambiguous discrimination\n",
    "ticks = [0,2,5,10,20,30,40,42,45]\n",
    "c = .90\n",
    "confidence_y = [avg_prob_with_confidence(index_729=200, theta= i , confidence = c, machine_uncertainty=.000000001) for i in theta_list]\n",
    "plt.title(f'Average probability with confidence {c} vs theta')\n",
    "# ticks = list(np.linspace(0,45,46))\n",
    "plt.xticks(ticks)\n",
    "plt.ylabel('Avg. probability')\n",
    "plt.xlabel('theta (in degrees)')\n",
    "plt.plot(theta_list, confidence_y);"
   ]
  },
  {
   "cell_type": "code",
   "execution_count": null,
   "id": "61ac6ecc",
   "metadata": {},
   "outputs": [],
   "source": [
    "# reproducing unambiguous discrimination\n",
    "ticks = [0,2,5,10,20,30,40,42,45]\n",
    "c = .86\n",
    "confidence_y = [avg_prob_with_confidence(index_729=200, theta= i , confidence = c, machine_uncertainty=.000000001) for i in theta_list]\n",
    "plt.title(f'Average probability with confidence {c} vs theta')\n",
    "# ticks = list(np.linspace(0,45,46))\n",
    "plt.xticks(ticks)\n",
    "plt.ylabel('Avg. probability')\n",
    "plt.xlabel('theta (in degrees)')\n",
    "plt.plot(theta_list, confidence_y);"
   ]
  },
  {
   "cell_type": "code",
   "execution_count": null,
   "id": "4cbd11d5",
   "metadata": {},
   "outputs": [],
   "source": [
    "# reproducing unambiguous discrimination\n",
    "ticks = [0,2,5,10,20,30,40,42,45]\n",
    "c = .85\n",
    "confidence_y = [avg_prob_with_confidence(index_729=200, theta= i , confidence = c, machine_uncertainty=.000000001) for i in theta_list]\n",
    "plt.title(f'Average probability with confidence {c} vs theta')\n",
    "# ticks = list(np.linspace(0,45,46))\n",
    "plt.xticks(ticks)\n",
    "plt.ylabel('Avg. probability')\n",
    "plt.xlabel('theta (in degrees)')\n",
    "plt.plot(theta_list, confidence_y);"
   ]
  },
  {
   "cell_type": "code",
   "execution_count": null,
   "id": "0c63ec50",
   "metadata": {},
   "outputs": [],
   "source": [
    "# reproducing unambiguous discrimination\n",
    "ticks = [0,2,5,10,20,30,40,42,45]\n",
    "c = .8\n",
    "confidence_y = [avg_prob_with_confidence(index_729=200, theta= i , confidence = c, machine_uncertainty=.000000001) for i in theta_list]\n",
    "plt.title(f'Average probability with confidence {c} vs theta')\n",
    "# ticks = list(np.linspace(0,45,46))\n",
    "plt.xticks(ticks)\n",
    "plt.ylabel('Avg. probability')\n",
    "plt.xlabel('theta (in degrees)')\n",
    "plt.plot(theta_list, confidence_y);"
   ]
  },
  {
   "cell_type": "code",
   "execution_count": null,
   "id": "aba2424e",
   "metadata": {},
   "outputs": [],
   "source": [
    "# reproducing unambiguous discrimination\n",
    "ticks = [0,2,5,10,20,30,40,42,45]\n",
    "c = .72\n",
    "confidence_y = [avg_prob_with_confidence(index_729=200, theta= i , confidence = c, machine_uncertainty=.000000001) for i in theta_list]\n",
    "plt.title(f'Average probability with confidence {c} vs theta')\n",
    "# ticks = list(np.linspace(0,45,46))\n",
    "plt.xticks(ticks)\n",
    "plt.ylabel('Avg. probability')\n",
    "plt.xlabel('theta (in degrees)')\n",
    "plt.plot(theta_list, confidence_y);"
   ]
  },
  {
   "cell_type": "code",
   "execution_count": null,
   "id": "e0be1f85",
   "metadata": {},
   "outputs": [],
   "source": [
    "# reproducing unambiguous discrimination\n",
    "ticks = [0,2,5,10,20,30,40,42,45]\n",
    "c = .65\n",
    "confidence_y = [avg_prob_with_confidence(index_729=200, theta= i , confidence = c, machine_uncertainty=.000000001) for i in theta_list]\n",
    "plt.title(f'Average probability with confidence {c} vs theta')\n",
    "# ticks = list(np.linspace(0,45,46))\n",
    "plt.xticks(ticks)\n",
    "plt.ylabel('Avg. probability')\n",
    "plt.xlabel('theta (in degrees)')\n",
    "plt.plot(theta_list, confidence_y);"
   ]
  },
  {
   "cell_type": "code",
   "execution_count": null,
   "id": "cb19c95f",
   "metadata": {},
   "outputs": [],
   "source": [
    "# reproducing unambiguous discrimination\n",
    "ticks = [0,2,5,10,20,30,40,42,45]\n",
    "c = .6\n",
    "confidence_y = [avg_prob_with_confidence(index_729=200, theta= i , confidence = c, machine_uncertainty=.000000001) for i in theta_list]\n",
    "plt.title(f'Average probability with confidence {c} vs theta')\n",
    "# ticks = list(np.linspace(0,45,46))\n",
    "plt.xticks(ticks)\n",
    "plt.ylabel('Avg. probability')\n",
    "plt.xlabel('theta (in degrees)')\n",
    "plt.plot(theta_list, confidence_y);"
   ]
  },
  {
   "cell_type": "code",
   "execution_count": null,
   "id": "c7e57f50",
   "metadata": {},
   "outputs": [],
   "source": [
    "# reproducing unambiguous discrimination\n",
    "ticks = [0,2,5,10,20,30,40,42,45]\n",
    "c = .55\n",
    "confidence_y = [avg_prob_with_confidence(index_729=200, theta= i , confidence = c, machine_uncertainty=.000000001) for i in theta_list]\n",
    "plt.title(f'Average probability with confidence {c} vs theta')\n",
    "# ticks = list(np.linspace(0,45,46))\n",
    "plt.xticks(ticks)\n",
    "plt.ylabel('Avg. probability')\n",
    "plt.xlabel('theta (in degrees)')\n",
    "plt.plot(theta_list, confidence_y);"
   ]
  },
  {
   "cell_type": "code",
   "execution_count": null,
   "id": "4b8c4615",
   "metadata": {},
   "outputs": [],
   "source": [
    "# reproducing unambiguous discrimination\n",
    "ticks = [0,2,5,10,20,30,40,42,45]\n",
    "c = .51\n",
    "confidence_y = [avg_prob_with_confidence(index_729=200, theta= i , confidence = c, machine_uncertainty=.000000001) for i in theta_list]\n",
    "plt.title(f'Average probability with confidence {c} vs theta')\n",
    "# ticks = list(np.linspace(0,45,46))\n",
    "plt.xticks(ticks)\n",
    "plt.ylabel('Avg. probability')\n",
    "plt.xlabel('theta (in degrees)')\n",
    "plt.plot(theta_list, confidence_y);"
   ]
  },
  {
   "cell_type": "code",
   "execution_count": null,
   "id": "ebbdbb87",
   "metadata": {},
   "outputs": [],
   "source": [
    "# reproducing unambiguous discrimination\n",
    "ticks = [0,2,5,10,20,30,40,42,45]\n",
    "c = .5\n",
    "confidence_y = [avg_prob_with_confidence(index_729=200, theta= i , confidence = c, machine_uncertainty=.000000001) for i in theta_list]\n",
    "plt.title(f'Average probability with confidence {c} vs theta')\n",
    "# ticks = list(np.linspace(0,45,46))\n",
    "plt.xticks(ticks)\n",
    "plt.ylabel('Avg. probability')\n",
    "plt.xlabel('theta (in degrees)')\n",
    "plt.plot(theta_list, confidence_y);"
   ]
  },
  {
   "cell_type": "code",
   "execution_count": null,
   "id": "47760c5d",
   "metadata": {},
   "outputs": [],
   "source": [
    "# reproducing unambiguous discrimination\n",
    "ticks = [0,2,5,10,20,30,40,42,45]\n",
    "c = .49\n",
    "confidence_y = [avg_prob_with_confidence(index_729=200, theta= i , confidence = c, machine_uncertainty=.000000001) for i in theta_list]\n",
    "plt.title(f'Average probability with confidence {c} vs theta')\n",
    "# ticks = list(np.linspace(0,45,46))\n",
    "plt.xticks(ticks)\n",
    "plt.ylabel('Avg. probability')\n",
    "plt.xlabel('theta (in degrees)')\n",
    "plt.plot(theta_list, confidence_y);"
   ]
  },
  {
   "cell_type": "code",
   "execution_count": null,
   "id": "79e83423",
   "metadata": {},
   "outputs": [],
   "source": [
    "# reproducing unambiguous discrimination\n",
    "ticks = [0,2,5,10,20,30,40,42,45]\n",
    "c = .48\n",
    "confidence_y = [avg_prob_with_confidence(index_729=200, theta= i , confidence = c, machine_uncertainty=.000000001) for i in theta_list]\n",
    "plt.title(f'Average probability with confidence {c} vs theta')\n",
    "# ticks = list(np.linspace(0,45,46))\n",
    "plt.xticks(ticks)\n",
    "plt.ylabel('Avg. probability')\n",
    "plt.xlabel('theta (in degrees)')\n",
    "plt.plot(theta_list, confidence_y);"
   ]
  },
  {
   "cell_type": "code",
   "execution_count": null,
   "id": "fa70a06b",
   "metadata": {},
   "outputs": [],
   "source": [
    "# reproducing unambiguous discrimination\n",
    "ticks = [0,2,5,10,20,30,40,42,45]\n",
    "c = .45\n",
    "confidence_y = [avg_prob_with_confidence(index_729=200, theta= i , confidence = c, machine_uncertainty=.000000001) for i in theta_list]\n",
    "plt.title(f'Average probability with confidence {c} vs theta')\n",
    "# ticks = list(np.linspace(0,45,46))\n",
    "plt.xticks(ticks)\n",
    "plt.ylabel('Avg. probability')\n",
    "plt.xlabel('theta (in degrees)')\n",
    "plt.plot(theta_list, confidence_y);"
   ]
  },
  {
   "cell_type": "code",
   "execution_count": null,
   "id": "15774382",
   "metadata": {},
   "outputs": [],
   "source": [
    "# reproducing unambiguous discrimination\n",
    "ticks = [0,2,5,10,20,30,40,42,45]\n",
    "c = .4\n",
    "confidence_y = [avg_prob_with_confidence(index_729=200, theta= i , confidence = c, machine_uncertainty=.000000001) for i in theta_list]\n",
    "plt.title(f'Average probability with confidence {c} vs theta')\n",
    "# ticks = list(np.linspace(0,45,46))\n",
    "plt.xticks(ticks)\n",
    "plt.ylabel('Avg. probability')\n",
    "plt.xlabel('theta (in degrees)')\n",
    "plt.plot(theta_list, confidence_y);"
   ]
  },
  {
   "cell_type": "code",
   "execution_count": null,
   "id": "d3ccf5c5",
   "metadata": {},
   "outputs": [],
   "source": [
    "# reproducing unambiguous discrimination\n",
    "ticks = [0,2,5,10,20,30,40,42,45]\n",
    "c = .35\n",
    "confidence_y = [avg_prob_with_confidence(index_729=200, theta= i , confidence = c, machine_uncertainty=.000000001) for i in theta_list]\n",
    "plt.title(f'Average probability with confidence {c} vs theta')\n",
    "# ticks = list(np.linspace(0,45,46))\n",
    "plt.xticks(ticks)\n",
    "plt.ylabel('Avg. probability')\n",
    "plt.xlabel('theta (in degrees)')\n",
    "plt.plot(theta_list, confidence_y);"
   ]
  },
  {
   "cell_type": "code",
   "execution_count": null,
   "id": "d0b4d0f9",
   "metadata": {},
   "outputs": [],
   "source": [
    "# reproducing unambiguous discrimination\n",
    "ticks = [0,2,5,10,20,30,40,42,45]\n",
    "c = .3\n",
    "confidence_y = [avg_prob_with_confidence(index_729=200, theta= i , confidence = c, machine_uncertainty=.000000001) for i in theta_list]\n",
    "plt.title(f'Average probability with confidence {c} vs theta')\n",
    "# ticks = list(np.linspace(0,45,46))\n",
    "plt.xticks(ticks)\n",
    "plt.ylabel('Avg. probability')\n",
    "plt.xlabel('theta (in degrees)')\n",
    "plt.plot(theta_list, confidence_y);"
   ]
  },
  {
   "cell_type": "code",
   "execution_count": null,
   "id": "4e129c5f",
   "metadata": {},
   "outputs": [],
   "source": [
    "# reproducing unambiguous discrimination\n",
    "ticks = [0,2,5,10,20,30,40,42,45]\n",
    "c = .25\n",
    "confidence_y = [avg_prob_with_confidence(index_729=200, theta= i , confidence = c, machine_uncertainty=.000000001) for i in theta_list]\n",
    "plt.title(f'Average probability with confidence {c} vs theta')\n",
    "# ticks = list(np.linspace(0,45,46))\n",
    "plt.xticks(ticks)\n",
    "plt.ylabel('Avg. probability')\n",
    "plt.xlabel('theta (in degrees)')\n",
    "plt.plot(theta_list, confidence_y);"
   ]
  },
  {
   "cell_type": "code",
   "execution_count": null,
   "id": "4638830b",
   "metadata": {},
   "outputs": [],
   "source": [
    "# reproducing unambiguous discrimination\n",
    "ticks = [0,2,5,10,20,30,40,42,45]\n",
    "c = .2\n",
    "confidence_y = [avg_prob_with_confidence(index_729=200, theta= i , confidence = c, machine_uncertainty=.000000001) for i in theta_list]\n",
    "plt.title(f'Average probability with confidence {c} vs theta')\n",
    "# ticks = list(np.linspace(0,45,46))\n",
    "plt.xticks(ticks)\n",
    "plt.ylabel('Avg. probability')\n",
    "plt.xlabel('theta (in degrees)')\n",
    "plt.plot(theta_list, confidence_y);"
   ]
  },
  {
   "cell_type": "code",
   "execution_count": null,
   "id": "4a5cd5eb",
   "metadata": {},
   "outputs": [],
   "source": [
    "# reproducing unambiguous discrimination\n",
    "ticks = [0,2,5,10,20,30,40,42,45]\n",
    "c = .15\n",
    "confidence_y = [avg_prob_with_confidence(index_729=200, theta= i , confidence = c, machine_uncertainty=.000000001) for i in theta_list]\n",
    "plt.title(f'Average probability with confidence {c} vs theta')\n",
    "# ticks = list(np.linspace(0,45,46))\n",
    "plt.xticks(ticks)\n",
    "plt.ylabel('Avg. probability')\n",
    "plt.xlabel('theta (in degrees)')\n",
    "plt.plot(theta_list, confidence_y);"
   ]
  },
  {
   "cell_type": "code",
   "execution_count": null,
   "id": "89d3fe01",
   "metadata": {},
   "outputs": [],
   "source": [
    "# reproducing unambiguous discrimination\n",
    "ticks = [0,2,5,10,20,30,40,42,45]\n",
    "c = .147\n",
    "confidence_y = [avg_prob_with_confidence(index_729=200, theta= i , confidence = c, machine_uncertainty=.000000001) for i in theta_list]\n",
    "plt.title(f'Average probability with confidence {c} vs theta')\n",
    "# ticks = list(np.linspace(0,45,46))\n",
    "plt.xticks(ticks)\n",
    "plt.ylabel('Avg. probability')\n",
    "plt.xlabel('theta (in degrees)')\n",
    "plt.plot(theta_list, confidence_y);"
   ]
  },
  {
   "cell_type": "code",
   "execution_count": null,
   "id": "26aac938",
   "metadata": {},
   "outputs": [],
   "source": [
    "# reproducing unambiguous discrimination\n",
    "ticks = [0,2,5,10,20,30,40,42,45]\n",
    "c = .1465\n",
    "confidence_y = [avg_prob_with_confidence(index_729=200, theta= i , confidence = c, machine_uncertainty=.000000001) for i in theta_list]\n",
    "plt.title(f'Average probability with confidence {c} vs theta')\n",
    "# ticks = list(np.linspace(0,45,46))\n",
    "plt.xticks(ticks)\n",
    "plt.ylabel('Avg. probability')\n",
    "plt.xlabel('theta (in degrees)')\n",
    "plt.plot(theta_list, confidence_y);"
   ]
  },
  {
   "cell_type": "code",
   "execution_count": null,
   "id": "7ac02560",
   "metadata": {},
   "outputs": [],
   "source": [
    "# reproducing unambiguous discrimination\n",
    "ticks = [0,2,5,10,20,30,40,42,45]\n",
    "c = .1\n",
    "confidence_y = [avg_prob_with_confidence(index_729=200, theta= i , confidence = c, machine_uncertainty=.000000001) for i in theta_list]\n",
    "plt.title(f'Average probability with confidence {c} vs theta')\n",
    "# ticks = list(np.linspace(0,45,46))\n",
    "plt.xticks(ticks)\n",
    "plt.ylabel('Avg. probability')\n",
    "plt.xlabel('theta (in degrees)')\n",
    "plt.plot(theta_list, confidence_y);"
   ]
  },
  {
   "cell_type": "code",
   "execution_count": null,
   "id": "ab1bebb7",
   "metadata": {},
   "outputs": [],
   "source": [
    "# reproducing unambiguous discrimination\n",
    "ticks = [0,2,5,10,20,30,40,42,45]\n",
    "c = .07\n",
    "confidence_y = [avg_prob_with_confidence(index_729=200, theta= i , confidence = c, machine_uncertainty=.000000001) for i in theta_list]\n",
    "plt.title(f'Average probability with confidence {c} vs theta')\n",
    "# ticks = list(np.linspace(0,45,46))\n",
    "plt.xticks(ticks)\n",
    "plt.ylabel('Avg. probability')\n",
    "plt.xlabel('theta (in degrees)')\n",
    "plt.plot(theta_list, confidence_y);"
   ]
  },
  {
   "cell_type": "code",
   "execution_count": null,
   "id": "d6e0d68d",
   "metadata": {},
   "outputs": [],
   "source": [
    "# reproducing unambiguous discrimination\n",
    "ticks = [0,2,5,10,20,30,40,42,45]\n",
    "c = .04\n",
    "confidence_y = [avg_prob_with_confidence(index_729=200, theta= i , confidence = c, machine_uncertainty=.000000001) for i in theta_list]\n",
    "plt.title(f'Average probability with confidence {c} vs theta')\n",
    "# ticks = list(np.linspace(0,45,46))\n",
    "plt.xticks(ticks)\n",
    "plt.ylabel('Avg. probability')\n",
    "plt.xlabel('theta (in degrees)')\n",
    "plt.plot(theta_list, confidence_y);"
   ]
  },
  {
   "cell_type": "code",
   "execution_count": null,
   "id": "0953fd1d",
   "metadata": {},
   "outputs": [],
   "source": [
    "# reproducing unambiguous discrimination\n",
    "ticks = [0,2,5,10,20,30,40,42,45]\n",
    "c = .02\n",
    "confidence_y = [avg_prob_with_confidence(index_729=200, theta= i , confidence = c, machine_uncertainty=.000000001) for i in theta_list]\n",
    "plt.title(f'Average probability with confidence {c} vs theta')\n",
    "# ticks = list(np.linspace(0,45,46))\n",
    "plt.xticks(ticks)\n",
    "plt.ylabel('Avg. probability')\n",
    "plt.xlabel('theta (in degrees)')\n",
    "plt.plot(theta_list, confidence_y);"
   ]
  },
  {
   "cell_type": "code",
   "execution_count": null,
   "id": "958e97b7",
   "metadata": {},
   "outputs": [],
   "source": [
    "# reproducing unambiguous discrimination\n",
    "ticks = [0,2,5,10,20,30,40,42,45]\n",
    "c = .01\n",
    "confidence_y = [avg_prob_with_confidence(index_729=200, theta= i , confidence = c, machine_uncertainty=.000000001) for i in theta_list]\n",
    "plt.title(f'Average probability with confidence {c} vs theta')\n",
    "# ticks = list(np.linspace(0,45,46))\n",
    "plt.xticks(ticks)\n",
    "plt.ylabel('Avg. probability')\n",
    "plt.xlabel('theta (in degrees)')\n",
    "plt.plot(theta_list, confidence_y);"
   ]
  },
  {
   "cell_type": "code",
   "execution_count": null,
   "id": "811fcb9a",
   "metadata": {},
   "outputs": [],
   "source": [
    "# reproducing unambiguous discrimination\n",
    "ticks = [0,2,5,10,20,30,40,42,45]\n",
    "c = .005\n",
    "confidence_y = [avg_prob_with_confidence(index_729=200, theta= i , confidence = c, machine_uncertainty=.000000001) for i in theta_list]\n",
    "plt.title(f'Average probability with confidence {c} vs theta')\n",
    "# ticks = list(np.linspace(0,45,46))\n",
    "plt.xticks(ticks)\n",
    "plt.ylabel('Avg. probability')\n",
    "plt.xlabel('theta (in degrees)')\n",
    "plt.plot(theta_list, confidence_y);"
   ]
  },
  {
   "cell_type": "code",
   "execution_count": null,
   "id": "db55c57a",
   "metadata": {},
   "outputs": [],
   "source": [
    "# reproducing unambiguous discrimination\n",
    "ticks = [0,2,5,10,20,30,40,42,45]\n",
    "c = .001\n",
    "confidence_y = [avg_prob_with_confidence(index_729=200, theta= i , confidence = c, machine_uncertainty=.000000001) for i in theta_list]\n",
    "plt.title(f'Average probability with confidence {c} vs theta')\n",
    "# ticks = list(np.linspace(0,45,46))\n",
    "plt.xticks(ticks)\n",
    "plt.ylabel('Avg. probability')\n",
    "plt.xlabel('theta (in degrees)')\n",
    "plt.plot(theta_list, confidence_y);"
   ]
  },
  {
   "cell_type": "code",
   "execution_count": 16,
   "id": "f6a994f6",
   "metadata": {},
   "outputs": [
    {
     "name": "stdout",
     "output_type": "stream",
     "text": [
      "[[0.0, 0.0, 0.0, 0.0], [0.0, 0.0, 0.653281, -0.270598], [0.0, 0.0, 0.270598, 0.653281], [0.0, 0.0, 0.270598, 0.653281], [0.0, 0.0, 0.653281, -0.270598], [0.0, 0.0, 0.0, 0.0], [0.270598, -0.653281, 0.0, 0.0], [-0.270598, 0.653281, 0.0, 0.0], [0.653281, 0.270598, 0.0, 0.0], [-0.653281, -0.270598, 0.0, 0.0]]\n",
      "[[ 0.        0.        0.        0.      ]\n",
      " [ 0.        0.        0.653281 -0.270598]\n",
      " [ 0.        0.        0.270598  0.653281]\n",
      " [ 0.        0.        0.270598  0.653281]\n",
      " [ 0.        0.        0.653281 -0.270598]\n",
      " [ 0.        0.        0.        0.      ]\n",
      " [ 0.270598 -0.653281  0.        0.      ]\n",
      " [-0.270598  0.653281  0.        0.      ]\n",
      " [ 0.653281  0.270598  0.        0.      ]\n",
      " [-0.653281 -0.270598  0.        0.      ]]\n",
      "[[ 0.        0.        0.        0.      ]\n",
      " [ 0.        0.        0.707106  0.      ]\n",
      " [ 0.        0.        0.        0.707106]\n",
      " [ 0.        0.        0.        0.707106]\n",
      " [ 0.        0.        0.707106  0.      ]\n",
      " [ 0.        0.        0.        0.      ]\n",
      " [ 0.5      -0.5       0.        0.      ]\n",
      " [-0.5       0.5       0.        0.      ]\n",
      " [ 0.5       0.5       0.        0.      ]\n",
      " [-0.5      -0.5       0.        0.      ]]\n"
     ]
    }
   ],
   "source": [
    "splitters_choice = Data.big_phi_abstract_729[200]\n",
    "aa45= cfn.Four_list(splitters_choice, compared=True, theta = 45) \n",
    "aa = cfn.Four_list(splitters_choice, compared=True, theta = 22.5)\n",
    "print(aa)\n",
    "# print(cfn.Four_list(splitters_choice, compared=True, theta = 43))\n",
    "# print(cfn.Four_list(splitters_choice, compared=True, theta = 40))\n",
    "# print(cfn.Four_list(splitters_choice, compared=True, theta = 36))\n",
    "# print(cfn.Four_list(splitters_choice, compared=True, theta = 32))\n",
    "print(np.array(aa))\n",
    "print(np.array(aa45))"
   ]
  },
  {
   "cell_type": "code",
   "execution_count": 18,
   "id": "6194ae81",
   "metadata": {},
   "outputs": [
    {
     "data": {
      "text/plain": [
       "0.8535532522335648"
      ]
     },
     "execution_count": 18,
     "metadata": {},
     "output_type": "execute_result"
    }
   ],
   "source": [
    "(-0.653281)**2/((0.270598)**2 +(-0.653281)**2)"
   ]
  },
  {
   "cell_type": "code",
   "execution_count": 120,
   "id": "749a6937",
   "metadata": {},
   "outputs": [
    {
     "name": "stdout",
     "output_type": "stream",
     "text": [
      "[[ 0.        0.        0.        0.      ]\n",
      " [ 0.        0.        0.707106  0.      ]\n",
      " [ 0.        0.        0.        0.707106]\n",
      " [ 0.        0.        0.        0.707106]\n",
      " [ 0.        0.        0.707106  0.      ]\n",
      " [ 0.        0.        0.        0.      ]\n",
      " [ 0.5      -0.5       0.        0.      ]\n",
      " [-0.5       0.5       0.        0.      ]\n",
      " [ 0.5       0.5       0.        0.      ]\n",
      " [-0.5      -0.5       0.        0.      ]]\n",
      "[[ 0.        0.        0.        0.      ]\n",
      " [ 0.        0.        0.707037 -0.009872]\n",
      " [ 0.        0.        0.009872  0.707037]\n",
      " [ 0.        0.        0.009872  0.707037]\n",
      " [ 0.        0.        0.707037 -0.009872]\n",
      " [ 0.        0.        0.        0.      ]\n",
      " [ 0.49297  -0.506932  0.        0.      ]\n",
      " [-0.49297   0.506932  0.        0.      ]\n",
      " [ 0.506932  0.49297   0.        0.      ]\n",
      " [-0.506932 -0.49297   0.        0.      ]]\n"
     ]
    }
   ],
   "source": [
    "a45 = cfn.Four_list(splitters_choice, compared=True, theta = 45)\n",
    "# a44_9 = cfn.Four_list(splitters_choice, compared=True, theta = 44.9)\n",
    "a44_5 = cfn.Four_list(splitters_choice, compared=True, theta = 44.2);\n",
    "\n",
    "for i in (a45, a44_5):\n",
    "    print((np.asmatrix(np.array(i))))\n",
    "\n",
    "# print(cfn.Four_list(splitters_choice, compared=True, theta = 43.9))"
   ]
  },
  {
   "cell_type": "code",
   "execution_count": 122,
   "id": "4a8c6838",
   "metadata": {},
   "outputs": [
    {
     "data": {
      "text/plain": [
       "0.9998050867547561"
      ]
     },
     "execution_count": 122,
     "metadata": {},
     "output_type": "execute_result"
    },
    {
     "name": "stderr",
     "output_type": "stream",
     "text": [
      "Exception in callback BaseSelectorEventLoop._read_from_self()\n",
      "handle: <Handle BaseSelectorEventLoop._read_from_self()>\n",
      "Traceback (most recent call last):\n",
      "  File \"C:\\Users\\pranj\\anaconda3\\lib\\asyncio\\events.py\", line 80, in _run\n",
      "    self._context.run(self._callback, *self._args)\n",
      "  File \"C:\\Users\\pranj\\anaconda3\\lib\\asyncio\\selector_events.py\", line 115, in _read_from_self\n",
      "    data = self._ssock.recv(4096)\n",
      "ConnectionResetError: [WinError 10054] An existing connection was forcibly closed by the remote host\n",
      "Exception in callback BaseSelectorEventLoop._read_from_self()\n",
      "handle: <Handle BaseSelectorEventLoop._read_from_self()>\n",
      "Traceback (most recent call last):\n",
      "  File \"C:\\Users\\pranj\\anaconda3\\lib\\asyncio\\events.py\", line 80, in _run\n",
      "    self._context.run(self._callback, *self._args)\n",
      "  File \"C:\\Users\\pranj\\anaconda3\\lib\\asyncio\\selector_events.py\", line 115, in _read_from_self\n",
      "    data = self._ssock.recv(4096)\n",
      "ConnectionResetError: [WinError 10054] An existing connection was forcibly closed by the remote host\n",
      "Exception in callback BaseSelectorEventLoop._read_from_self()\n",
      "handle: <Handle BaseSelectorEventLoop._read_from_self()>\n",
      "Traceback (most recent call last):\n",
      "  File \"C:\\Users\\pranj\\anaconda3\\lib\\asyncio\\events.py\", line 80, in _run\n",
      "    self._context.run(self._callback, *self._args)\n",
      "  File \"C:\\Users\\pranj\\anaconda3\\lib\\asyncio\\selector_events.py\", line 115, in _read_from_self\n",
      "    data = self._ssock.recv(4096)\n",
      "ConnectionResetError: [WinError 10054] An existing connection was forcibly closed by the remote host\n",
      "Exception in callback BaseSelectorEventLoop._read_from_self()\n",
      "handle: <Handle BaseSelectorEventLoop._read_from_self()>\n",
      "Traceback (most recent call last):\n",
      "  File \"C:\\Users\\pranj\\anaconda3\\lib\\asyncio\\events.py\", line 80, in _run\n",
      "    self._context.run(self._callback, *self._args)\n",
      "  File \"C:\\Users\\pranj\\anaconda3\\lib\\asyncio\\selector_events.py\", line 115, in _read_from_self\n",
      "    data = self._ssock.recv(4096)\n",
      "ConnectionResetError: [WinError 10054] An existing connection was forcibly closed by the remote host\n"
     ]
    }
   ],
   "source": [
    "0.707037**2/(0.009872**2+0.707037**2)"
   ]
  },
  {
   "cell_type": "code",
   "execution_count": 119,
   "id": "835fe38e",
   "metadata": {},
   "outputs": [
    {
     "data": {
      "text/plain": [
       "0.9998050867547561"
      ]
     },
     "execution_count": 119,
     "metadata": {},
     "output_type": "execute_result"
    }
   ],
   "source": [
    "1-0.0001949132452439115"
   ]
  },
  {
   "cell_type": "code",
   "execution_count": null,
   "id": "8b76b873",
   "metadata": {},
   "outputs": [],
   "source": []
  }
 ],
 "metadata": {
  "kernelspec": {
   "display_name": "Python 3 (ipykernel)",
   "language": "python",
   "name": "python3"
  },
  "language_info": {
   "codemirror_mode": {
    "name": "ipython",
    "version": 3
   },
   "file_extension": ".py",
   "mimetype": "text/x-python",
   "name": "python",
   "nbconvert_exporter": "python",
   "pygments_lexer": "ipython3",
   "version": "3.9.13"
  }
 },
 "nbformat": 4,
 "nbformat_minor": 5
}
