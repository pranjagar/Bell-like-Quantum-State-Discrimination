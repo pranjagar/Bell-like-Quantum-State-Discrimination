{
 "cells": [
  {
   "cell_type": "code",
   "execution_count": 12,
   "metadata": {},
   "outputs": [],
   "source": [
    "import numpy as np\n",
    "import pandas as pd\n",
    "import math as m\n",
    "import sympy as sym\n",
    "import random as rand\n",
    "import matplotlib.pyplot as plt\n",
    "import cmath as cm\n"
   ]
  },
  {
   "cell_type": "code",
   "execution_count": 13,
   "metadata": {},
   "outputs": [],
   "source": [
    "# defininf the states\n",
    "# defininsg coefficeients sybols\n",
    "\n",
    "def Creating_states( coeff = [1/(2**.5),1/(2**.5),1/(2**.5),1/(2**.5)] , Abstract = False):    # coeff list like [a0,a1,b0,b1]\n",
    "    if Abstract == True:\n",
    "        a0 = sym.symbols('a0')\n",
    "        a1 = sym.symbols('a1')\n",
    "        b0 = sym.symbols('b0')\n",
    "        b1 = sym.symbols('b1')\n",
    "    else:\n",
    "        a0 = coeff[0]\n",
    "        a1 = coeff[1]\n",
    "        b0 = coeff[2]\n",
    "        b1 = coeff[3]\n",
    "    psi0 = [a0,a1]      # defining states\n",
    "    psi1 = [b0,b1]\n",
    "    return([psi0,psi1])"
   ]
  },
  {
   "cell_type": "code",
   "execution_count": 14,
   "metadata": {},
   "outputs": [
    {
     "data": {
      "text/plain": [
       "[0.7071067811865475, 0.7071067811865475]"
      ]
     },
     "execution_count": 14,
     "metadata": {},
     "output_type": "execute_result"
    }
   ],
   "source": [
    "psi0 = Creating_states(Abstract=False)[0]\n",
    "psi1 = Creating_states(Abstract=False)[1]\n",
    "\n",
    "psi1"
   ]
  },
  {
   "cell_type": "code",
   "execution_count": 15,
   "metadata": {},
   "outputs": [],
   "source": [
    "psi0sq = []\n",
    "psi1sq = []\n",
    "[[psi0sq.append(i*j) for i in psi0] for j in psi0]\n",
    "[[psi1sq.append(i*j) for i in psi1] for j in psi1]   # creating list of coeff for squared states (intermeditate step)\n",
    "\n",
    "psi0psi0 = [psi0sq[0], (psi0sq[1]**2+psi0sq[2]**2)**(.5), psi0sq[3]]        # the second element is the normalized coefficient due to the addition of states (01+10). See OneNote writeup for details\n",
    "psi1psi1 = [psi1sq[0], (psi1sq[1]**(2)+psi1sq[2]**(2))**(.5), psi1sq[3]]            # symmetric states in basis (|00>, normalized version of (|01>+|10>),|11>)\n",
    "\n",
    "# psi0psi0\n",
    "# sum([i**2 for i in psi0psi0])   # adding to 1 now."
   ]
  },
  {
   "cell_type": "code",
   "execution_count": 16,
   "metadata": {},
   "outputs": [
    {
     "data": {
      "text/latex": [
       "$\\displaystyle \\left[\\begin{matrix}0.25 & 0.353553390593274 & 0.25\\\\0.353553390593274 & 0.5 & 0.353553390593274\\\\0.25 & 0.353553390593274 & 0.25\\end{matrix}\\right]$"
      ],
      "text/plain": [
       "Matrix([\n",
       "[             0.25, 0.353553390593274,              0.25],\n",
       "[0.353553390593274,               0.5, 0.353553390593274],\n",
       "[             0.25, 0.353553390593274,              0.25]])"
      ]
     },
     "execution_count": 16,
     "metadata": {},
     "output_type": "execute_result"
    }
   ],
   "source": [
    "#creating the density matrix rho\n",
    "# rho is 1/2*(|psi0psi0Xpsi0psi0|+|psi1psi1Xpsi1psi1|)\n",
    "# findiing the conjugate vectors \n",
    "vec_psi0psi0 = sym.Matrix(psi0psi0)     # convertying to sympy vectors for easy matrix multiplication\n",
    "vec_psi1psi1 = sym.Matrix(psi1psi1)\n",
    "\n",
    "rho = (1/2)*(vec_psi0psi0*vec_psi0psi0.T  + vec_psi1psi1*vec_psi1psi1.T)       # density matrix with priors 1/2 each.\n",
    "rho"
   ]
  },
  {
   "cell_type": "code",
   "execution_count": 31,
   "metadata": {},
   "outputs": [
    {
     "data": {
      "text/latex": [
       "$\\displaystyle 0.0464325798681613 - 0.067061487843697 \\cdot 2.71828182845905^{2.0943951023932 i} + 0.0555555555555555 \\cdot 2.71828182845905^{4.18879020478639 i} + 0.0555555555555555 \\cdot 2.71828182845905^{8.37758040957278 i}$"
      ],
      "text/plain": [
       "0.0464325798681613 - 0.067061487843697*2.71828182845905**(2.0943951023932*I) + 0.0555555555555555*2.71828182845905**(4.18879020478639*I) + 0.0555555555555555*2.71828182845905**(8.37758040957278*I)"
      ]
     },
     "execution_count": 31,
     "metadata": {},
     "output_type": "execute_result"
    }
   ],
   "source": [
    "# creating the SIC POVM matrices\n",
    "w = m.e**((2/3)*m.pi*sym.I)\n",
    "POVM_vec = (1/(2**.5))*(np.array([[0,1,-1],[-1,0,1],[1,-1,0],[0,w,w**2],[-1,0,w**2],[1,-w,0],[0,w**2,-w],[-1,0,w],[1,-w**2,0]]))\n",
    "POVM_elts = [((1/9)*sym.Matrix(POVM_vec[i])*sym.Matrix(POVM_vec[i]).T) for i in range(len(POVM_vec))]\n",
    "prob_vec = [(POVM_elts[i]*rho).trace() for i in range(len(POVM_elts))]\n",
    "\n",
    "sum(prob_vec[:8])        # prob not adding to 1?\n",
    "\n",
    "\n",
    "# cm.exp(POVM_elts[0].trace())\n",
    "# abs(POVM_elts[3].trace())\n",
    "# abs(cm.exp(POVM_elts[5].trace()))\n",
    "# POVM_elts[3][1,0]"
   ]
  },
  {
   "cell_type": "code",
   "execution_count": 35,
   "metadata": {},
   "outputs": [
    {
     "data": {
      "text/plain": [
       "True"
      ]
     },
     "execution_count": 35,
     "metadata": {},
     "output_type": "execute_result"
    }
   ],
   "source": [
    "sum(prob_vec[:9]) == sum(prob_vec)\n",
    "\n"
   ]
  },
  {
   "cell_type": "code",
   "execution_count": 36,
   "metadata": {},
   "outputs": [
    {
     "data": {
      "text/latex": [
       "$\\displaystyle 0.0138888888888889 + 0.0277777777777778 \\cdot 2.71828182845905^{8.37758040957278 i} - 0.0392837100659193 \\cdot 2.71828182845905^{4.18879020478639 i}$"
      ],
      "text/plain": [
       "0.0138888888888889 + 0.0277777777777778*2.71828182845905**(8.37758040957278*I) - 0.0392837100659193*2.71828182845905**(4.18879020478639*I)"
      ]
     },
     "execution_count": 36,
     "metadata": {},
     "output_type": "execute_result"
    }
   ],
   "source": [
    "prob_vec[-1]"
   ]
  },
  {
   "cell_type": "code",
   "execution_count": 38,
   "metadata": {},
   "outputs": [
    {
     "ename": "AttributeError",
     "evalue": "'Pow' object has no attribute 'real'",
     "output_type": "error",
     "traceback": [
      "\u001b[0;31m---------------------------------------------------------------------------\u001b[0m",
      "\u001b[0;31mAttributeError\u001b[0m                            Traceback (most recent call last)",
      "\u001b[1;32m/Users/pranjal/Desktop/Python/Research_python/reconstructing_states_hillery.ipynb Cell 9\u001b[0m line \u001b[0;36m2\n\u001b[1;32m      <a href='vscode-notebook-cell:/Users/pranjal/Desktop/Python/Research_python/reconstructing_states_hillery.ipynb#X14sZmlsZQ%3D%3D?line=0'>1</a>\u001b[0m x \u001b[39m=\u001b[39m\u001b[39m2.71828182845905\u001b[39m\u001b[39m*\u001b[39m\u001b[39m*\u001b[39m(\u001b[39m8.37758040957278\u001b[39m\u001b[39m*\u001b[39msym\u001b[39m.\u001b[39mI)\n\u001b[0;32m----> <a href='vscode-notebook-cell:/Users/pranjal/Desktop/Python/Research_python/reconstructing_states_hillery.ipynb#X14sZmlsZQ%3D%3D?line=1'>2</a>\u001b[0m x\u001b[39m.\u001b[39;49mreal\n",
      "\u001b[0;31mAttributeError\u001b[0m: 'Pow' object has no attribute 'real'"
     ]
    }
   ],
   "source": [
    "x =2.71828182845905**(8.37758040957278*sym.I)\n",
    "x.real"
   ]
  },
  {
   "cell_type": "code",
   "execution_count": 18,
   "metadata": {},
   "outputs": [
    {
     "data": {
      "text/plain": [
       "0.010689976613632043"
      ]
     },
     "execution_count": 18,
     "metadata": {},
     "output_type": "execute_result"
    }
   ],
   "source": [
    "# verifying that the trace still holds to be the same, equalt to .111 for this weird POVM element.\n",
    "c = .00308641975308642*2.71828182845905**(4.18879020478639*(sym.I))\n",
    "\n",
    "p = cm.polar(c)\n",
    "cm.rect(p[0], p[1])\n",
    " \n",
    "r = .00617-.0015\n",
    "i = .0026\n",
    "\n",
    "ab = (r**2+i**2)**(.5)\n",
    "2*ab # verified"
   ]
  },
  {
   "cell_type": "code",
   "execution_count": 19,
   "metadata": {},
   "outputs": [
    {
     "ename": "TypeError",
     "evalue": "cannot determine truth value of Relational",
     "output_type": "error",
     "traceback": [
      "\u001b[0;31m---------------------------------------------------------------------------\u001b[0m",
      "\u001b[0;31mTypeError\u001b[0m                                 Traceback (most recent call last)",
      "\u001b[1;32m/Users/pranjal/Desktop/Python/Research_python/reconstructing_states_hillery.ipynb Cell 9\u001b[0m line \u001b[0;36m6\n\u001b[1;32m      <a href='vscode-notebook-cell:/Users/pranjal/Desktop/Python/Research_python/reconstructing_states_hillery.ipynb#X11sZmlsZQ%3D%3D?line=2'>3</a>\u001b[0m POVM_dir_symbols \u001b[39m=\u001b[39m [\u001b[39m'\u001b[39m\u001b[39md1\u001b[39m\u001b[39m'\u001b[39m,\u001b[39m'\u001b[39m\u001b[39md2\u001b[39m\u001b[39m'\u001b[39m,\u001b[39m'\u001b[39m\u001b[39md3\u001b[39m\u001b[39m'\u001b[39m,\u001b[39m'\u001b[39m\u001b[39md4\u001b[39m\u001b[39m'\u001b[39m,\u001b[39m'\u001b[39m\u001b[39md5\u001b[39m\u001b[39m'\u001b[39m,\u001b[39m'\u001b[39m\u001b[39md6\u001b[39m\u001b[39m'\u001b[39m,\u001b[39m'\u001b[39m\u001b[39md7\u001b[39m\u001b[39m'\u001b[39m,\u001b[39m'\u001b[39m\u001b[39md8\u001b[39m\u001b[39m'\u001b[39m,\u001b[39m'\u001b[39m\u001b[39md9\u001b[39m\u001b[39m'\u001b[39m]       \u001b[39m# symbols to indicate collapsed direction\u001b[39;00m\n\u001b[1;32m      <a href='vscode-notebook-cell:/Users/pranjal/Desktop/Python/Research_python/reconstructing_states_hillery.ipynb#X11sZmlsZQ%3D%3D?line=4'>5</a>\u001b[0m \u001b[39m#prob distribution is simply the corresponding elements of the prob_vec\u001b[39;00m\n\u001b[0;32m----> <a href='vscode-notebook-cell:/Users/pranjal/Desktop/Python/Research_python/reconstructing_states_hillery.ipynb#X11sZmlsZQ%3D%3D?line=5'>6</a>\u001b[0m collapse_dir \u001b[39m=\u001b[39m rand\u001b[39m.\u001b[39;49mchoices(POVM_dir_symbols, weights\u001b[39m=\u001b[39;49mprob_vec, k \u001b[39m=\u001b[39;49m N)\n\u001b[1;32m      <a href='vscode-notebook-cell:/Users/pranjal/Desktop/Python/Research_python/reconstructing_states_hillery.ipynb#X11sZmlsZQ%3D%3D?line=7'>8</a>\u001b[0m nj_list \u001b[39m=\u001b[39m [collapse_dir\u001b[39m.\u001b[39mcount(\u001b[39mf\u001b[39m\u001b[39m'\u001b[39m\u001b[39md\u001b[39m\u001b[39m{\u001b[39;00mi\u001b[39m}\u001b[39;00m\u001b[39m'\u001b[39m) \u001b[39mfor\u001b[39;00m i \u001b[39min\u001b[39;00m \u001b[39mrange\u001b[39m(\u001b[39m9\u001b[39m)]\n\u001b[1;32m      <a href='vscode-notebook-cell:/Users/pranjal/Desktop/Python/Research_python/reconstructing_states_hillery.ipynb#X11sZmlsZQ%3D%3D?line=8'>9</a>\u001b[0m \u001b[39mprint\u001b[39m(prob_vec)\n",
      "File \u001b[0;32m/Library/Frameworks/Python.framework/Versions/3.11/lib/python3.11/random.py:508\u001b[0m, in \u001b[0;36mRandom.choices\u001b[0;34m(self, population, weights, cum_weights, k)\u001b[0m\n\u001b[1;32m    506\u001b[0m     \u001b[39mraise\u001b[39;00m \u001b[39mValueError\u001b[39;00m(\u001b[39m'\u001b[39m\u001b[39mThe number of weights does not match the population\u001b[39m\u001b[39m'\u001b[39m)\n\u001b[1;32m    507\u001b[0m total \u001b[39m=\u001b[39m cum_weights[\u001b[39m-\u001b[39m\u001b[39m1\u001b[39m] \u001b[39m+\u001b[39m \u001b[39m0.0\u001b[39m   \u001b[39m# convert to float\u001b[39;00m\n\u001b[0;32m--> 508\u001b[0m \u001b[39mif\u001b[39;00m total \u001b[39m<\u001b[39m\u001b[39m=\u001b[39m \u001b[39m0.0\u001b[39m:\n\u001b[1;32m    509\u001b[0m     \u001b[39mraise\u001b[39;00m \u001b[39mValueError\u001b[39;00m(\u001b[39m'\u001b[39m\u001b[39mTotal of weights must be greater than zero\u001b[39m\u001b[39m'\u001b[39m)\n\u001b[1;32m    510\u001b[0m \u001b[39mif\u001b[39;00m \u001b[39mnot\u001b[39;00m _isfinite(total):\n",
      "File \u001b[0;32m/Library/Frameworks/Python.framework/Versions/3.11/lib/python3.11/site-packages/sympy/core/relational.py:510\u001b[0m, in \u001b[0;36mRelational.__bool__\u001b[0;34m(self)\u001b[0m\n\u001b[1;32m    509\u001b[0m \u001b[39mdef\u001b[39;00m \u001b[39m__bool__\u001b[39m(\u001b[39mself\u001b[39m):\n\u001b[0;32m--> 510\u001b[0m     \u001b[39mraise\u001b[39;00m \u001b[39mTypeError\u001b[39;00m(\u001b[39m\"\u001b[39m\u001b[39mcannot determine truth value of Relational\u001b[39m\u001b[39m\"\u001b[39m)\n",
      "\u001b[0;31mTypeError\u001b[0m: cannot determine truth value of Relational"
     ]
    }
   ],
   "source": [
    "N = 90          # number of measurements\n",
    "\n",
    "POVM_dir_symbols = ['d1','d2','d3','d4','d5','d6','d7','d8','d9']       # symbols to indicate collapsed direction\n",
    "\n",
    "#prob distribution is simply the corresponding elements of the prob_vec\n",
    "collapse_dir = rand.choices(POVM_dir_symbols, weights=prob_vec, k = N)\n",
    "\n",
    "nj_list = [collapse_dir.count(f'd{i}') for i in range(9)]\n",
    "print(prob_vec)\n",
    "print(collapse_dir)\n",
    "\n",
    "nj_list\n"
   ]
  },
  {
   "cell_type": "code",
   "execution_count": null,
   "metadata": {},
   "outputs": [],
   "source": []
  }
 ],
 "metadata": {
  "kernelspec": {
   "display_name": "Python 3",
   "language": "python",
   "name": "python3"
  },
  "language_info": {
   "codemirror_mode": {
    "name": "ipython",
    "version": 3
   },
   "file_extension": ".py",
   "mimetype": "text/x-python",
   "name": "python",
   "nbconvert_exporter": "python",
   "pygments_lexer": "ipython3",
   "version": "3.11.4"
  },
  "orig_nbformat": 4
 },
 "nbformat": 4,
 "nbformat_minor": 2
}
