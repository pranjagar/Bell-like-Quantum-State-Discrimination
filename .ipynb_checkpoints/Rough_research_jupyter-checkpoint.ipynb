{
 "cells": [
  {
   "cell_type": "code",
   "execution_count": 4,
   "id": "ca476376",
   "metadata": {},
   "outputs": [],
   "source": [
    "import Functions_module_beta as fn\n",
    "import custom_functions_01 as cf\n",
    "import sympy as sym\n",
    "import numpy as np"
   ]
  },
  {
   "cell_type": "code",
   "execution_count": 6,
   "id": "67bffb1a",
   "metadata": {},
   "outputs": [
    {
     "data": {
      "text/plain": [
       "0.0020041567750095357"
      ]
     },
     "execution_count": 6,
     "metadata": {},
     "output_type": "execute_result"
    }
   ],
   "source": [
    "1.5885895250448867 - 1.5865853682698772"
   ]
  },
  {
   "cell_type": "code",
   "execution_count": 7,
   "id": "a6f20ddc",
   "metadata": {},
   "outputs": [
    {
     "data": {
      "text/plain": [
       "-0.004210958525019404"
      ]
     },
     "execution_count": 7,
     "metadata": {},
     "output_type": "execute_result"
    }
   ],
   "source": [
    "1.5865853682698772 - 1.5907963267948966"
   ]
  },
  {
   "cell_type": "code",
   "execution_count": null,
   "id": "b7624672",
   "metadata": {},
   "outputs": [],
   "source": []
  }
 ],
 "metadata": {
  "kernelspec": {
   "display_name": "Python 3 (ipykernel)",
   "language": "python",
   "name": "python3"
  },
  "language_info": {
   "codemirror_mode": {
    "name": "ipython",
    "version": 3
   },
   "file_extension": ".py",
   "mimetype": "text/x-python",
   "name": "python",
   "nbconvert_exporter": "python",
   "pygments_lexer": "ipython3",
   "version": "3.11.4"
  }
 },
 "nbformat": 4,
 "nbformat_minor": 5
}
