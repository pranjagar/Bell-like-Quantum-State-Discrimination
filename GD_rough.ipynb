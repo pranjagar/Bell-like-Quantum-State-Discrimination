{
 "cells": [
  {
   "cell_type": "code",
   "execution_count": 2,
   "metadata": {},
   "outputs": [],
   "source": [
    "import numpy as np\n",
    "import pandas as pd\n",
    "import math as m\n",
    "import sympy as sym\n",
    "import random as rand\n",
    "import matplotlib.pyplot as plt\n",
    "import Functions_module_beta as fn\n",
    "import custom_functions_01 as cf\n",
    "from custom_functions_01 import Four_list\n",
    "from custom_functions_01 import avg_prob_with_confidence\n",
    "from custom_functions_01 import avg_prob_with_confidence_alternative\n",
    "from Functions_module_beta import SystemAction\n",
    "from custom_functions_GD import Gradient_modified\n",
    "from custom_functions_GD import GDSearch_modified\n",
    "\n",
    "\n",
    "# from Functions_module_beta import AvgProbability"
   ]
  },
  {
   "cell_type": "code",
   "execution_count": 3,
   "metadata": {},
   "outputs": [],
   "source": [
    "# Some saved data etc: \n",
    "\n",
    "s = [m.pi/2,0,m.pi/4,m.pi/4,m.pi/2,0]   # optimal splitters\n",
    "\n",
    "s_02 = [m.pi/2,0,m.pi/4,m.pi/4,m.pi/2+.2,0]   # optimal splitters + some deviation = starting point for GD \n",
    "\n",
    "s_03 = [m.pi/2,0,m.pi/4,m.pi/4+.2,m.pi/2,0]   \n",
    "\n",
    "s_04 = [m.pi/2,0,m.pi/4+.2,m.pi/4,m.pi/2,0]   \n",
    "\n",
    "s_05 = [m.pi/2,0+.2,m.pi/4,m.pi/4,m.pi/2,0]   # different devitations\n",
    "\n",
    "s_06 = [m.pi/2+.2,0,m.pi/4+.2,m.pi/4,m.pi/2,0]   "
   ]
  },
  {
   "cell_type": "code",
   "execution_count": 4,
   "metadata": {},
   "outputs": [
    {
     "data": {
      "text/plain": [
       "[[0.0, 0.0, 0.0, 0.0],\n",
       " [0.707106, 0.707106, 0.0, 0.0],\n",
       " [0.0, 0.0, 0.707106, 0.707106],\n",
       " [0.0, 0.0, 0.707106, -0.707106],\n",
       " [0.707106, -0.707106, 0.0, 0.0],\n",
       " [0.0, 0.0, 0.0, 0.0],\n",
       " [0.0, 0.0, 0.0, 0.0],\n",
       " [0.0, 0.0, 0.0, 0.0],\n",
       " [0.0, 0.0, 0.0, 0.0],\n",
       " [0.0, 0.0, 0.0, 0.0]]"
      ]
     },
     "execution_count": 4,
     "metadata": {},
     "output_type": "execute_result"
    }
   ],
   "source": [
    "Four_list([0,0,0,0,0,0], compared= 1, theta=45)"
   ]
  },
  {
   "cell_type": "code",
   "execution_count": 10,
   "metadata": {},
   "outputs": [
    {
     "data": {
      "text/plain": [
       "0"
      ]
     },
     "execution_count": 10,
     "metadata": {},
     "output_type": "execute_result"
    }
   ],
   "source": [
    "# avg_prob_with_confidence_alternative(1, custom_splitters = [0,0,0,0,0,0])\n",
    "avg_prob_with_confidence_alternative(.502, custom_splitters = [0,0,0,0,0,0])"
   ]
  },
  {
   "cell_type": "code",
   "execution_count": 21,
   "metadata": {},
   "outputs": [
    {
     "name": "stdout",
     "output_type": "stream",
     "text": [
      "c_00 = 0.0 p_0 = 1 c_00_p0 = 0.0\n",
      "c_01 = 0.0 p_1 = 0.124999723809 c_01_p1 = 0.0\n",
      "c_02 = 0.0 p_2 = 0.124999723809 c_02_p2 = 0.0\n",
      "c_03 = 0.0 p_3 = 0.124999723809 c_03_p3 = 0.0\n",
      "c_04 = 0.0 p_4 = 0.124999723809 c_04_p4 = 0.0\n",
      "c_05 = 0.0 p_5 = 1 c_05_p5 = 0.0\n",
      "c_06 = 0.5 p_6 = 0.125 c_06_p6 = 0.0625\n",
      "c_07 = 0.5 p_7 = 0.125 c_07_p7 = 0.0625\n",
      "c_08 = 0.5 p_8 = 0.125 c_08_p8 = 0.0625\n",
      "c_09 = 0.5 p_9 = 0.125 c_09_p9 = 0.0625\n",
      "c_10 = 0.0 p_0 = 1 c_10_p0 = 0.0\n",
      "c_11 = 0.0 p_1 = 0.124999723809 c_11_p1 = 0.0\n",
      "c_12 = 0.0 p_2 = 0.124999723809 c_12_p2 = 0.0\n",
      "c_13 = 0.0 p_3 = 0.124999723809 c_13_p3 = 0.0\n",
      "c_14 = 0.0 p_4 = 0.124999723809 c_14_p4 = 0.0\n",
      "c_15 = 0.0 p_5 = 1 c_15_p5 = 0.0\n",
      "c_16 = 0.5 p_6 = 0.125 c_16_p6 = 0.0625\n",
      "c_17 = 0.5 p_7 = 0.125 c_17_p7 = 0.0625\n",
      "c_18 = 0.5 p_8 = 0.125 c_18_p8 = 0.0625\n",
      "c_19 = 0.5 p_9 = 0.125 c_19_p9 = 0.0625\n",
      "c_20 = 0.0 p_0 = 1 c_20_p0 = 0.0\n",
      "c_21 = 1.0 p_1 = 0.124999723809 c_21_p1 = 0.124999723809\n",
      "c_22 = 0.0 p_2 = 0.124999723809 c_22_p2 = 0.0\n",
      "c_23 = 0.0 p_3 = 0.124999723809 c_23_p3 = 0.0\n",
      "c_24 = 1.0 p_4 = 0.124999723809 c_24_p4 = 0.124999723809\n",
      "c_25 = 0.0 p_5 = 1 c_25_p5 = 0.0\n",
      "c_26 = 0.0 p_6 = 0.125 c_26_p6 = 0.0\n",
      "c_27 = 0.0 p_7 = 0.125 c_27_p7 = 0.0\n",
      "c_28 = 0.0 p_8 = 0.125 c_28_p8 = 0.0\n",
      "c_29 = 0.0 p_9 = 0.125 c_29_p9 = 0.0\n",
      "c_30 = 0.0 p_0 = 1 c_30_p0 = 0.0\n",
      "c_31 = 0.0 p_1 = 0.124999723809 c_31_p1 = 0.0\n",
      "c_32 = 1.0 p_2 = 0.124999723809 c_32_p2 = 0.124999723809\n",
      "c_33 = 1.0 p_3 = 0.124999723809 c_33_p3 = 0.124999723809\n",
      "c_34 = 0.0 p_4 = 0.124999723809 c_34_p4 = 0.0\n",
      "c_35 = 0.0 p_5 = 1 c_35_p5 = 0.0\n",
      "c_36 = 0.0 p_6 = 0.125 c_36_p6 = 0.0\n",
      "c_37 = 0.0 p_7 = 0.125 c_37_p7 = 0.0\n",
      "c_38 = 0.0 p_8 = 0.125 c_38_p8 = 0.0\n",
      "c_39 = 0.0 p_9 = 0.125 c_39_p9 = 0.0\n"
     ]
    },
    {
     "data": {
      "text/plain": [
       "0.499998895236"
      ]
     },
     "execution_count": 21,
     "metadata": {},
     "output_type": "execute_result"
    }
   ],
   "source": [
    "sp6 = [m.pi/2,0,m.pi/4,m.pi/4,m.pi/2,0]\n",
    "test_avgprob(1,'avgprob',sp6)"
   ]
  }
 ],
 "metadata": {
  "kernelspec": {
   "display_name": "Python 3",
   "language": "python",
   "name": "python3"
  },
  "language_info": {
   "codemirror_mode": {
    "name": "ipython",
    "version": 3
   },
   "file_extension": ".py",
   "mimetype": "text/x-python",
   "name": "python",
   "nbconvert_exporter": "python",
   "pygments_lexer": "ipython3",
   "version": "3.11.4"
  },
  "orig_nbformat": 4
 },
 "nbformat": 4,
 "nbformat_minor": 2
}
