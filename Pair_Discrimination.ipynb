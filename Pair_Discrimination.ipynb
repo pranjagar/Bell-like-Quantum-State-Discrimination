{
 "cells": [
  {
   "cell_type": "code",
   "execution_count": 1,
   "metadata": {},
   "outputs": [],
   "source": [
    "import numpy as np\n",
    "import pandas as pd\n",
    "import math as m\n",
    "import sympy as sym\n",
    "import random as rand\n",
    "import matplotlib.pyplot as plt\n",
    "import cmath as cm\n",
    "# Testing..attention please..nuisance, you sent, who sent for me?"
   ]
  },
  {
   "cell_type": "code",
   "execution_count": 2,
   "metadata": {},
   "outputs": [],
   "source": [
    "# defininf the states\n",
    "# defininsg coefficeients sybols\n",
    "\n",
    "def Creating_states( coeff = [1/(2**.5),1/(2**.5),1/(2**.5),1/(2**.5)] , Abstract = False):    # coeff list like [a0,a1,b0,b1]\n",
    "    if Abstract == True:\n",
    "        a0 = sym.symbols('a0')\n",
    "        a1 = sym.symbols('a1')\n",
    "        b0 = sym.symbols('b0')\n",
    "        b1 = sym.symbols('b1')\n",
    "    else:\n",
    "        a0 = coeff[0]\n",
    "        a1 = coeff[1]\n",
    "        b0 = coeff[2]\n",
    "        b1 = coeff[3]\n",
    "    psi0 = [a0,a1]      # defining states\n",
    "    psi1 = [b0,b1]\n",
    "    return([psi0,psi1])"
   ]
  },
  {
   "cell_type": "code",
   "execution_count": 3,
   "metadata": {},
   "outputs": [
    {
     "data": {
      "text/plain": [
       "[0.7071067811865475, 0.7071067811865475]"
      ]
     },
     "execution_count": 3,
     "metadata": {},
     "output_type": "execute_result"
    }
   ],
   "source": [
    "psi0 = Creating_states(Abstract=False)[0]\n",
    "psi1 = Creating_states(Abstract=False)[1]\n",
    "\n",
    "psi0"
   ]
  },
  {
   "cell_type": "code",
   "execution_count": 4,
   "metadata": {},
   "outputs": [],
   "source": [
    "psi0sq = []\n",
    "psi1sq = []\n",
    "[[psi0sq.append(i*j) for i in psi0] for j in psi0]\n",
    "[[psi1sq.append(i*j) for i in psi1] for j in psi1]   # creating list of coeff for squared states (intermeditate step)\n",
    "\n",
    "psi0psi0 = [psi0sq[0], (psi0sq[1]**2+psi0sq[2]**2)**(.5), psi0sq[3]]        # the second element is the normalized coefficient due to the addition of states (01+10). See OneNote writeup for details\n",
    "psi1psi1 = [psi1sq[0], (psi1sq[1]**(2)+psi1sq[2]**(2))**(.5), psi1sq[3]]            # symmetric states in basis (|00>, normalized version of (|01>+|10>),|11>)\n",
    "\n",
    "# psi0psi0\n",
    "# sum([i**2 for i in psi0psi0])   # adding to 1 now."
   ]
  },
  {
   "cell_type": "code",
   "execution_count": 5,
   "metadata": {},
   "outputs": [
    {
     "data": {
      "text/latex": [
       "$\\displaystyle \\left[\\begin{matrix}0.25 & 0.353553390593274 & 0.25\\\\0.353553390593274 & 0.5 & 0.353553390593274\\\\0.25 & 0.353553390593274 & 0.25\\end{matrix}\\right]$"
      ],
      "text/plain": [
       "Matrix([\n",
       "[             0.25, 0.353553390593274,              0.25],\n",
       "[0.353553390593274,               0.5, 0.353553390593274],\n",
       "[             0.25, 0.353553390593274,              0.25]])"
      ]
     },
     "execution_count": 5,
     "metadata": {},
     "output_type": "execute_result"
    }
   ],
   "source": [
    "#creating the density matrix rho\n",
    "# rho is 1/2*(|psi0psi0Xpsi0psi0|+|psi1psi1Xpsi1psi1|)\n",
    "# findiing the conjugate vectors \n",
    "vec_psi0psi0 = sym.Matrix(psi0psi0)     # convertying to sympy vectors for easy matrix multiplication\n",
    "vec_psi1psi1 = sym.Matrix(psi1psi1)\n",
    "\n",
    "rho = (1/2)*(vec_psi0psi0*vec_psi0psi0.T  + vec_psi1psi1*vec_psi1psi1.T)       # density matrix with priors 1/2 each.\n",
    "rho"
   ]
  },
  {
   "cell_type": "code",
   "execution_count": 6,
   "metadata": {},
   "outputs": [],
   "source": [
    "# creating the SIC POVM matrices\n",
    "w = m.e**((2/3)*m.pi*(1j))\n",
    "POVM_vec = (1/(2**.5))*(np.array([[0,1,-1],[-1,0,1],[1,-1,0],[0,w,-w**2],[-1,0,w**2],[1,-w,0],[0,w**2,-w],[-1,0,w],[1,-w**2,0]]))\n",
    "POVM_elts = [(1/3)*np.outer(np.conjugate(POVM_vec[i]),POVM_vec[i]) for i in range(len(POVM_vec))]\n",
    "# sum([np.trace(POVM_elts[i]) for i in range(9)])`# trace sum checks out`"
   ]
  },
  {
   "cell_type": "code",
   "execution_count": 7,
   "metadata": {},
   "outputs": [
    {
     "data": {
      "text/latex": [
       "$\\displaystyle 0.999999999999999$"
      ],
      "text/plain": [
       "0.999999999999999"
      ]
     },
     "execution_count": 7,
     "metadata": {},
     "output_type": "execute_result"
    }
   ],
   "source": [
    "# prob_vec = [(POVM_elts[i]*rho).trace() for i in range(len(POVM_elts))]\n",
    "prob_vec =  [np.trace(np.dot(POVM_elts[i],rho)) for i in range(9)] #[(POVM_elts[i]*rho).trace() for i in range(len(POVM_elts))]\n",
    "# prob_vec\n",
    "sum(prob_vec)        # prob not adding to 1?\n",
    "# print(prob_vec)\n"
   ]
  },
  {
   "cell_type": "code",
   "execution_count": 8,
   "metadata": {},
   "outputs": [],
   "source": [
    "# # verifying that the trace still holds to be the same, equalt to .111 for this weird POVM element.\n",
    "# c = .00308641975308642*2.71828182845905**(4.18879020478639*(sym.I))\n",
    "\n",
    "# p = cm.polar(c)\n",
    "# cm.rect(p[0], p[1])\n",
    "\n",
    "# r = .00617-.0015\n",
    "# i = .0026\n",
    "\n",
    "# ab = (r**2+i**2)**(.5)\n",
    "# 2*ab # verified"
   ]
  },
  {
   "cell_type": "code",
   "execution_count": 87,
   "metadata": {},
   "outputs": [
    {
     "data": {
      "text/plain": [
       "([71.4886980224206,\n",
       "  0,\n",
       "  71.4886980224206,\n",
       "  1839.25565098879,\n",
       "  1250.00000000000,\n",
       "  1839.25565098879,\n",
       "  1839.25565098879,\n",
       "  1250.00000000000,\n",
       "  1839.25565098879],\n",
       " [62, 0, 66, 1789, 1298, 1800, 1926, 1213, 1846])"
      ]
     },
     "execution_count": 87,
     "metadata": {},
     "output_type": "execute_result"
    }
   ],
   "source": [
    "N = 10000       # number of measurements  \n",
    "\n",
    "POVM_dir_symbols = ['d1','d2','d3','d4','d5','d6','d7','d8','d9']       # symbols to indicate collapsed direction\n",
    "#prob distribution is simply the corresponding elements of the prob_vec\n",
    "collapse_dir_vec = rand.choices(POVM_dir_symbols, weights=prob_vec, k = N)   # choosing collapse directions with weights for N trials\n",
    "\n",
    "nj_vec = [collapse_dir_vec.count(f'd{i+1}') for i in range(9)]         # working babieee\n",
    "pj_num_vec = [i/N for i in nj_vec]         # working babieee\n",
    "([i*N for i in prob_vec] , nj_vec)   # comparing the theoretical and experimental collapse prob."
   ]
  },
  {
   "cell_type": "code",
   "execution_count": 64,
   "metadata": {},
   "outputs": [],
   "source": [
    "M = [[np.trace(np.dot(POVM_elts[i],POVM_elts[j])) for i in range(len(POVM_elts))] for j in range(len(POVM_elts))]     # creating M matrix using POVM definition\n"
   ]
  },
  {
   "cell_type": "code",
   "execution_count": 90,
   "metadata": {},
   "outputs": [
    {
     "data": {
      "text/plain": [
       "array([-0.9256, -1.    , -0.9208,  1.1468,  0.5576,  1.16  ,  1.3112,\n",
       "        0.4556,  1.2152])"
      ]
     },
     "execution_count": 90,
     "metadata": {},
     "output_type": "execute_result"
    }
   ],
   "source": [
    "u_0 = [1/3 for i in range(9)]           # cerating u_0 vector, to create the inverse matrix\n",
    "M_inv = 3*np.outer(u_0,u_0) + 12*(np.eye(9) - np.outer(u_0,u_0))        # creating the inverse matrix\n",
    "# np.trace(np.dot(M,M_inv))       # gives identity, checks out\n",
    "r_vec = np.dot(M_inv,pj_num_vec)\n"
   ]
  },
  {
   "cell_type": "code",
   "execution_count": 93,
   "metadata": {},
   "outputs": [
    {
     "data": {
      "text/plain": [
       "[array([[-0.        +0.j, -0.        +0.j, -0.        +0.j],\n",
       "        [-0.        +0.j, -0.15426667+0.j,  0.15426667-0.j],\n",
       "        [-0.        +0.j,  0.15426667+0.j, -0.15426667+0.j]]),\n",
       " array([[-0.16666667+0.j, -0.        +0.j,  0.16666667+0.j],\n",
       "        [-0.        +0.j, -0.        +0.j, -0.        +0.j],\n",
       "        [ 0.16666667-0.j, -0.        +0.j, -0.16666667+0.j]]),\n",
       " array([[-0.15346667+0.j,  0.15346667-0.j, -0.        +0.j],\n",
       "        [ 0.15346667+0.j, -0.15346667+0.j, -0.        +0.j],\n",
       "        [-0.        +0.j, -0.        +0.j, -0.        +0.j]]),\n",
       " array([[0.        +0.00000000e+00j, 0.        +0.00000000e+00j,\n",
       "         0.        +0.00000000e+00j],\n",
       "        [0.        +0.00000000e+00j, 0.19113333+4.02832527e-18j,\n",
       "         0.09556667-1.65526322e-01j],\n",
       "        [0.        +0.00000000e+00j, 0.09556667+1.65526322e-01j,\n",
       "         0.19113333-8.95212367e-19j]]),\n",
       " array([[ 0.09293333+0.00000000e+00j,  0.        +0.00000000e+00j,\n",
       "          0.04646667+8.04826275e-02j],\n",
       "        [ 0.        +0.00000000e+00j,  0.        +0.00000000e+00j,\n",
       "         -0.        +0.00000000e+00j],\n",
       "        [ 0.04646667-8.04826275e-02j, -0.        +0.00000000e+00j,\n",
       "          0.09293333-4.35272424e-19j]]),\n",
       " array([[0.19333333+0.00000000e+00j, 0.09666667-1.67431578e-01j,\n",
       "         0.        +0.00000000e+00j],\n",
       "        [0.09666667+1.67431578e-01j, 0.19333333+4.07469246e-18j,\n",
       "         0.        +0.00000000e+00j],\n",
       "        [0.        +0.00000000e+00j, 0.        +0.00000000e+00j,\n",
       "         0.        +0.00000000e+00j]]),\n",
       " array([[ 0.        +0.00000000e+00j, -0.        +0.00000000e+00j,\n",
       "          0.        +0.00000000e+00j],\n",
       "        [-0.        +0.00000000e+00j,  0.21853333-1.02354592e-18j,\n",
       "          0.10926667+1.89255418e-01j],\n",
       "        [ 0.        +0.00000000e+00j,  0.10926667-1.89255418e-01j,\n",
       "          0.21853333+4.60580754e-18j]]),\n",
       " array([[0.07593333+0.00000000e+00j, 0.        +0.00000000e+00j,\n",
       "         0.03796667-6.57601957e-02j],\n",
       "        [0.        +0.00000000e+00j, 0.        +0.00000000e+00j,\n",
       "         0.        +0.00000000e+00j],\n",
       "        [0.03796667+6.57601957e-02j, 0.        +0.00000000e+00j,\n",
       "         0.07593333+1.60037059e-18j]]),\n",
       " array([[0.20253333+0.00000000e+00j, 0.10126667+1.75399012e-01j,\n",
       "         0.        +0.00000000e+00j],\n",
       "        [0.10126667-1.75399012e-01j, 0.20253333-9.48606617e-19j,\n",
       "         0.        +0.00000000e+00j],\n",
       "        [0.        +0.00000000e+00j, 0.        +0.00000000e+00j,\n",
       "         0.        +0.00000000e+00j]])]"
      ]
     },
     "execution_count": 93,
     "metadata": {},
     "output_type": "execute_result"
    }
   ],
   "source": [
    "rho_num_list = [r_vec[i]*POVM_elts[i] for i in range(len(POVM_elts))]\n",
    "\n",
    "[i for i in rho_num_list]\n"
   ]
  },
  {
   "cell_type": "code",
   "execution_count": 97,
   "metadata": {},
   "outputs": [
    {
     "data": {
      "text/plain": [
       "array([[0.2446+0.00000000e+00j, 0.3514+7.96743371e-03j,\n",
       "        0.2511+1.47224319e-02j],\n",
       "       [0.3514-7.96743371e-03j, 0.4978+6.13086519e-18j,\n",
       "        0.3591+2.37290961e-02j],\n",
       "       [0.2511-1.47224319e-02j, 0.3591-2.37290961e-02j,\n",
       "        0.2576+4.87569334e-18j]])"
      ]
     },
     "execution_count": 97,
     "metadata": {},
     "output_type": "execute_result"
    }
   ],
   "source": [
    "rho_num = np.zeros_like(rho_num_list[0])\n",
    "\n",
    "# Loop over the matrices and sum them element-wise\n",
    "for matrix in rho_num_list:\n",
    "    rho_num = np.add(rho_num, matrix)\n",
    "\n",
    "rho_num "
   ]
  },
  {
   "cell_type": "code",
   "execution_count": 98,
   "metadata": {},
   "outputs": [
    {
     "data": {
      "text/latex": [
       "$\\displaystyle \\left[\\begin{matrix}0.25 & 0.353553390593274 & 0.25\\\\0.353553390593274 & 0.5 & 0.353553390593274\\\\0.25 & 0.353553390593274 & 0.25\\end{matrix}\\right]$"
      ],
      "text/plain": [
       "Matrix([\n",
       "[             0.25, 0.353553390593274,              0.25],\n",
       "[0.353553390593274,               0.5, 0.353553390593274],\n",
       "[             0.25, 0.353553390593274,              0.25]])"
      ]
     },
     "execution_count": 98,
     "metadata": {},
     "output_type": "execute_result"
    }
   ],
   "source": [
    "rho"
   ]
  }
 ],
 "metadata": {
  "kernelspec": {
   "display_name": "Python 3",
   "language": "python",
   "name": "python3"
  },
  "language_info": {
   "codemirror_mode": {
    "name": "ipython",
    "version": 3
   },
   "file_extension": ".py",
   "mimetype": "text/x-python",
   "name": "python",
   "nbconvert_exporter": "python",
   "pygments_lexer": "ipython3",
   "version": "3.11.4"
  },
  "orig_nbformat": 4
 },
 "nbformat": 4,
 "nbformat_minor": 2
}
