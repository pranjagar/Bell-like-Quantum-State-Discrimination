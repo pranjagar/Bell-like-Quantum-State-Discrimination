{
 "cells": [
  {
   "cell_type": "code",
   "execution_count": 1,
   "id": "04ecf693",
   "metadata": {},
   "outputs": [],
   "source": [
    "import numpy as np\n",
    "import math as m\n",
    "import matplotlib.pyplot as plt\n",
    "import matplotlib.animation as ani\n",
    "from matplotlib import cm\n",
    "import sympy as sym\n",
    "import random as rand\n",
    "import Data\n",
    "\n",
    "import Functions_module_beta as fn\n",
    "from Functions_module_beta import MatrixAction, SystemAction\n",
    "import custom_functions_01 as cfn\n",
    "from custom_functions_01 import avg_prob_with_confidence"
   ]
  },
  {
   "cell_type": "code",
   "execution_count": null,
   "id": "a8d68d5c",
   "metadata": {},
   "outputs": [],
   "source": []
  },
  {
   "cell_type": "code",
   "execution_count": 7,
   "id": "4b75eec6",
   "metadata": {},
   "outputs": [
    {
     "name": "stdout",
     "output_type": "stream",
     "text": [
      "[[cos(2*phi), 0, 0, 0, 0, 0, sqrt(2)*sin(2*phi)/2, -sqrt(2)*sin(2*phi)/2, 0, 0], [0, cos(phi), 0, -sin(phi), 0, 0, 0, 0, 0, 0], [0, 0, cos(phi), 0, -sin(phi), 0, 0, 0, 0, 0], [0, sin(phi), 0, cos(phi), 0, 0, 0, 0, 0, 0], [0, 0, sin(phi), 0, cos(phi), 0, 0, 0, 0, 0], [0, 0, 0, 0, 0, 1, 0, 0, 0, 0], [-sqrt(2)*sin(2*phi)/2, 0, 0, 0, 0, 0, cos(phi)**2, sin(phi)**2, 0, 0], [sqrt(2)*sin(2*phi)/2, 0, 0, 0, 0, 0, sin(phi)**2, cos(phi)**2, 0, 0], [0, 0, 0, 0, 0, 0, 0, 0, 1, 0], [0, 0, 0, 0, 0, 0, 0, 0, 0, 1]]\n"
     ]
    }
   ],
   "source": [
    "Matrix_12 = []\n",
    "for i in fn.TenStateBasis:\n",
    "    ith_column = fn.equations12(i,1,False)   # produces effect of sending in ith basis vector\n",
    "    Matrix_12.append(ith_column)\n",
    "print(Matrix_12)"
   ]
  },
  {
   "cell_type": "code",
   "execution_count": 18,
   "id": "b3229bcc",
   "metadata": {},
   "outputs": [
    {
     "data": {
      "text/plain": [
       "array([[cos(2*phi), 0, 0, 0, 0, 0, -sqrt(2)*sin(2*phi)/2,\n",
       "        sqrt(2)*sin(2*phi)/2, 0, 0],\n",
       "       [0, cos(phi), 0, sin(phi), 0, 0, 0, 0, 0, 0],\n",
       "       [0, 0, cos(phi), 0, sin(phi), 0, 0, 0, 0, 0],\n",
       "       [0, -sin(phi), 0, cos(phi), 0, 0, 0, 0, 0, 0],\n",
       "       [0, 0, -sin(phi), 0, cos(phi), 0, 0, 0, 0, 0],\n",
       "       [0, 0, 0, 0, 0, 1, 0, 0, 0, 0],\n",
       "       [sqrt(2)*sin(2*phi)/2, 0, 0, 0, 0, 0, cos(phi)**2, sin(phi)**2, 0,\n",
       "        0],\n",
       "       [-sqrt(2)*sin(2*phi)/2, 0, 0, 0, 0, 0, sin(phi)**2, cos(phi)**2,\n",
       "        0, 0],\n",
       "       [0, 0, 0, 0, 0, 0, 0, 0, 1, 0],\n",
       "       [0, 0, 0, 0, 0, 0, 0, 0, 0, 1]], dtype=object)"
      ]
     },
     "execution_count": 18,
     "metadata": {},
     "output_type": "execute_result"
    }
   ],
   "source": [
    "Matrix12 = np.transpose(np.array(Matrix_12))\n",
    "Matrix12"
   ]
  },
  {
   "cell_type": "code",
   "execution_count": null,
   "id": "d907f63a",
   "metadata": {},
   "outputs": [],
   "source": []
  }
 ],
 "metadata": {
  "kernelspec": {
   "display_name": "Python 3 (ipykernel)",
   "language": "python",
   "name": "python3"
  },
  "language_info": {
   "codemirror_mode": {
    "name": "ipython",
    "version": 3
   },
   "file_extension": ".py",
   "mimetype": "text/x-python",
   "name": "python",
   "nbconvert_exporter": "python",
   "pygments_lexer": "ipython3",
   "version": "3.9.13"
  }
 },
 "nbformat": 4,
 "nbformat_minor": 5
}
