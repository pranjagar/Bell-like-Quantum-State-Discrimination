{
 "cells": [
  {
   "cell_type": "code",
   "execution_count": 1,
   "metadata": {},
   "outputs": [],
   "source": [
    "import numpy as np\n",
    "import pandas as pd\n",
    "import math as m\n",
    "import sympy as sym\n",
    "import random as rand\n",
    "import matplotlib.pyplot as plt\n",
    "import Functions_module_beta as fn\n",
    "import custom_functions_01 as cf\n",
    "from custom_functions_01 import Four_list\n",
    "from custom_functions_01 import avg_prob_with_confidence\n",
    "from custom_functions_01 import avg_prob_with_confidence_alternative\n",
    "from Functions_module_beta import SystemAction\n",
    "from custom_functions_GD import Gradient_modified\n",
    "from custom_functions_GD import GDSearch_modified\n",
    "\n",
    "\n",
    "# from Functions_module_beta import AvgProbability"
   ]
  },
  {
   "cell_type": "code",
   "execution_count": 2,
   "metadata": {},
   "outputs": [],
   "source": [
    "# defining gradient function\n",
    "# priors_list = [.25,.25,.25,.25]\n",
    "def Gradient_modified(splitters, c = 1, quantity = 'avgprob' , angle_theta = 45,  delta = .001, machine_precision = .001 , priors_list = [.25,.25,.25,.25]):\n",
    "    [a,b,c,d,e,f] = [i for i in splitters]\n",
    "\n",
    "    # print([a,b,c,d,e,f],splitters)\n",
    "    \n",
    "\n",
    "    initial_avg_prob = avg_prob_with_confidence_alternative(confidence = c, quantity= quantity , custom_splitters= splitters, index_15k= False, index_729= False, theta = angle_theta, four_list_compared= False, raw_four_list= False, machine_uncertainty = machine_precision, priors = priors_list)\n",
    "\n",
    "    partial_a = (avg_prob_with_confidence_alternative(confidence = c, quantity= quantity,  custom_splitters= [a+delta,b,c,d,e,f], index_15k= False, index_729= False, theta = angle_theta, four_list_compared= False, raw_four_list= False, machine_uncertainty = machine_precision, priors = priors_list)- initial_avg_prob)/delta\n",
    "    partial_b = (avg_prob_with_confidence_alternative(confidence = c, quantity= quantity,  custom_splitters= [a,b+delta,c,d,e,f], index_15k= False, index_729= False, theta = angle_theta, four_list_compared= False, raw_four_list= False, machine_uncertainty = machine_precision, priors = priors_list)- initial_avg_prob)/delta\n",
    "    partial_c = (avg_prob_with_confidence_alternative(confidence = c, quantity= quantity,  custom_splitters= [a,b,c+delta,d,e,f], index_15k= False, index_729= False, theta = angle_theta, four_list_compared= False, raw_four_list= False, machine_uncertainty = machine_precision, priors = priors_list)- initial_avg_prob)/delta\n",
    "    partial_d = (avg_prob_with_confidence_alternative(confidence = c, quantity= quantity,  custom_splitters= [a,b,c,d+delta,e,f], index_15k= False, index_729= False, theta = angle_theta, four_list_compared= False, raw_four_list= False, machine_uncertainty = machine_precision, priors = priors_list)- initial_avg_prob)/delta\n",
    "    partial_e = (avg_prob_with_confidence_alternative(confidence = c, quantity= quantity,  custom_splitters= [a,b,c,d,e+delta,f], index_15k= False, index_729= False, theta = angle_theta, four_list_compared= False, raw_four_list= False, machine_uncertainty = machine_precision, priors = priors_list)- initial_avg_prob)/delta\n",
    "    partial_f = (avg_prob_with_confidence_alternative(confidence = c, quantity= quantity,  custom_splitters= [a,b,c,d,e,f+delta], index_15k= False, index_729= False, theta = angle_theta, four_list_compared= False, raw_four_list= False, machine_uncertainty = machine_precision, priors = priors_list)- initial_avg_prob)/delta\n",
    "\n",
    "    Gradient = [partial_a,partial_b,partial_c,partial_d,partial_e,partial_f]\n",
    "    return Gradient\n"
   ]
  },
  {
   "cell_type": "code",
   "execution_count": 3,
   "metadata": {},
   "outputs": [],
   "source": [
    "# Defining Gradient search function for a given confidence and theta values.\n",
    "def GDSearch_modified(starting_point = [0,0,0,0,0,0], quantity = 'avgprob' , c_threshold = 1, theta = 45, iterations = 25, step = .01, calculations = False, calc_precision = .0001 , priors = [.25,.25,.25,.25], deriv_delta = .0001, double_deriv_method = False, random_step = False, adaptive_step = True ):\n",
    "    new_splitters = starting_point \n",
    "    \n",
    "    for i in range(iterations):\n",
    "        grad = Gradient_modified(splitters = new_splitters, quantity= quantity, c = c_threshold, angle_theta = theta, machine_precision = calc_precision , priors_list = priors, delta = deriv_delta)\n",
    "        \n",
    "        # if random_step == True and [abs(i) < 1e-6 for i in grad]:\n",
    "        #     index_choice = np.random.choice(6)\n",
    "        #     new_splitters[index_choice] += -(0.1)\n",
    "\n",
    "        # if double_deriv_method == True and [abs(i) < 1e-6 for i in grad]:    # the double deriv clause\n",
    "        #     double_deriv = Double_deriv(splitters = [m1,m2,m3,m4,m5,m6], c = c_threshold, angle_theta = theta, machine_precision = calc_precision , priors_list = priors, delta = deriv_delta)\n",
    "        #     # above gives the six double derivateives. We can use these to decide which direction to make a large move in.\n",
    "        #     if [abs(i) < 1e-6 for i in double_deriv]:\n",
    "        #         new_splitters = [(new_splitters[i]+ (10*step)) for i in range(6)]\n",
    "        #     else:\n",
    "        #         new_splitters = [(new_splitters[i]+ (10*step)*double_deriv[i]) for i in range(6)]\n",
    "        \n",
    "        # if double_deriv_method == False and random_step == False:\n",
    "        if adaptive_step != False:\n",
    "            new_splitters = [(new_splitters[i]- step*(m.copysign(1,grad[i]))) for i in range(6)]        # the copysign thing is just finding the sign.\n",
    "        else:\n",
    "            new_splitters = [(new_splitters[i]+ step*grad[i]) for i in range(6)]                    # adaptive rate - step depends on gradient size\n",
    "\n",
    "# possible ways to reduce calculations  - \n",
    "\n",
    "        if calculations == True:        # if need to analyze, shows intermediate steps\n",
    "            print(f\"\\n gradient = {grad}\")\n",
    "            # if double_deriv_method == True:\n",
    "            #     print(f\"double_derivatives_list = {double_deriv}\")\n",
    "            print(f\"Splitter_{i}= {new_splitters}\")\n",
    "            print(f\"{quantity}{i}= {avg_prob_with_confidence_alternative(custom_splitters = new_splitters, quantity = quantity , confidence= c_threshold, index_15k= False, index_729= False, theta=theta, four_list_compared= False, raw_four_list= False, machine_uncertainty= calc_precision, priors= priors)}\")\n",
    "\n",
    "    max_quant_splitters = new_splitters\n",
    "    max_quant = avg_prob_with_confidence_alternative(custom_splitters = new_splitters, quantity = quantity , confidence= c_threshold, index_15k= False, index_729= False, theta= theta, four_list_compared= False, raw_four_list= False, machine_uncertainty= calc_precision, priors= priors)\n",
    "\n",
    "    if calculations == True : print(f'\\n starting_point = {starting_point}')      # to compare starting and final points\n",
    "    if calculations == True :  # for showing intermediate steps\n",
    "        starting_quant = avg_prob_with_confidence_alternative(custom_splitters = starting_point, quantity = quantity , confidence= c_threshold, index_15k= False, index_729= False, theta=theta, four_list_compared= False, raw_four_list= False, machine_uncertainty= calc_precision, priors= priors)\n",
    "        final_quant    = avg_prob_with_confidence_alternative(custom_splitters = max_quant_splitters, quantity = quantity , confidence= c_threshold, index_15k= False, index_729= False, theta=theta, four_list_compared= False, raw_four_list= False, machine_uncertainty= calc_precision, priors= priors)\n",
    "        if final_quant != 0: \n",
    "            fractioanl_increase = 100*(final_quant- starting_quant)/final_quant       # not actually percent increaswe coz dividing by the final prob instead of starting prob.\n",
    "        else:\n",
    "            fractioanl_increase = 'None (Division by zero)'       # not actually percent increaswe coz dividing by the final prob instead of starting prob.\n",
    "        print(f\"starting {quantity} = {starting_quant}, result max {quantity} = {final_quant}, percent increase = {fractioanl_increase}\")\n",
    "\n",
    "    return [max_quant, max_quant_splitters]       # the resultant maximum probability and the corresponding splitters\n",
    "        \n",
    "\n",
    "# maybe add double derivatives inside if condition- in case its already a minima point with first deriv = 0. "
   ]
  },
  {
   "cell_type": "code",
   "execution_count": 4,
   "metadata": {},
   "outputs": [],
   "source": [
    "# Some saved data etc: \n",
    "\n",
    "s = [m.pi/2,0,m.pi/4,m.pi/4,m.pi/2,0]   # optimal splitters\n",
    "\n",
    "s_02 = [m.pi/2,0,m.pi/4,m.pi/4,m.pi/2+.2,0]   # optimal splitters + some deviation = starting point for GD \n",
    "\n",
    "s_03 = [m.pi/2,0,m.pi/4,m.pi/4+.2,m.pi/2,0]   \n",
    "\n",
    "s_04 = [m.pi/2,0,m.pi/4+.2,m.pi/4,m.pi/2,0]   \n",
    "\n",
    "s_05 = [m.pi/2,0+.2,m.pi/4,m.pi/4,m.pi/2,0]   # different devitations\n",
    "\n",
    "s_06 = [m.pi/2+.2,0,m.pi/4+.2,m.pi/4,m.pi/2,0]   "
   ]
  },
  {
   "cell_type": "code",
   "execution_count": 5,
   "metadata": {},
   "outputs": [
    {
     "data": {
      "text/plain": [
       "<matplotlib.legend.Legend at 0x13f57e050>"
      ]
     },
     "execution_count": 5,
     "metadata": {},
     "output_type": "execute_result"
    },
    {
     "data": {
      "image/png": "[encoded data removed]",
      "text/plain": [
       "<Figure size 640x480 with 1 Axes>"
      ]
     },
     "metadata": {},
     "output_type": "display_data"
    }
   ],
   "source": [
    "#checking if our fucntion with maxconf quantity gives expected values\n",
    "\n",
    "# print(avg_prob_with_confidence_alternative( custom_splitters = s , quantity= 'maxconf', theta= 45))   # works\n",
    "\n",
    "conf_list1 = []\n",
    "conf_list2 = []\n",
    "conf_list3 = []\n",
    "conf_list4 = []\n",
    "conf_list5 = []\n",
    "conf_list6 = []\n",
    "conf_list7 = []\n",
    "\n",
    "X = np.linspace(0,m.pi,10)\n",
    "for i in X:\n",
    "    sp1 = [m.pi/2,0,m.pi/4,m.pi/4,m.pi/2,0+i]   # Increasing one parameter at once \n",
    "    conf_list1.append(avg_prob_with_confidence_alternative(custom_splitters = sp1 , quantity= 'maxconf', theta= 45))\n",
    "    sp2 = [m.pi/2,0,m.pi/4,m.pi/4,m.pi/2+i,0]\n",
    "    conf_list2.append(avg_prob_with_confidence_alternative(custom_splitters = sp2 , quantity= 'maxconf', theta= 45))\n",
    "    sp3 = [m.pi/2,0,m.pi/4,m.pi/4+i,m.pi/2,0]\n",
    "    conf_list3.append(avg_prob_with_confidence_alternative(custom_splitters = sp3 , quantity= 'maxconf', theta= 45))\n",
    "    sp4 = [m.pi/2,0,m.pi/4+i,m.pi/4,m.pi/2,0]\n",
    "    conf_list4.append(avg_prob_with_confidence_alternative(custom_splitters = sp4 , quantity= 'maxconf', theta= 45))\n",
    "    sp5 = [m.pi/2,0+i,m.pi/4,m.pi/4,m.pi/2,0]\n",
    "    conf_list5.append(avg_prob_with_confidence_alternative(custom_splitters = sp5 , quantity= 'maxconf', theta= 45))\n",
    "    sp6 = [m.pi/2+i,0,m.pi/4,m.pi/4,m.pi/2,0]\n",
    "    conf_list6.append(avg_prob_with_confidence_alternative(custom_splitters = sp6 , quantity= 'maxconf', theta= 45))\n",
    "    sp7 = [m.pi/2+i,0+i,m.pi/4+i,m.pi/4+i,m.pi/2+i,0+i]   # increasing all at once\n",
    "    conf_list7.append(avg_prob_with_confidence_alternative(custom_splitters = sp7 , quantity= 'maxconf', theta= 45))\n",
    "\n",
    "\n",
    "\n",
    "# plotting how max confidence looks like\n",
    "plt.plot(X,conf_list1, linestyle = 'dotted',c= 'g',label=' 1')\n",
    "plt.plot(X,conf_list2, linestyle = 'dashed',c= 'b',label= '2')\n",
    "plt.plot(X,conf_list3, linestyle = '-.',c= 'r',label=' 1')\n",
    "plt.plot(X,conf_list4, linestyle = 'dashed',c= 'y',label= '2')\n",
    "plt.plot(X,conf_list5, linestyle = 'dotted',c= 'violet',label=' 1')\n",
    "plt.plot(X,conf_list6, linestyle = '-.',c= 'c',label= '2')\n",
    "plt.legend()\n",
    "# Q: Why is max confidnece dropping below .1 ? Ans: coz .1 is not the minimum, it is .1/4 = .025 coz of the normalized probability or priors = .25 each.\n",
    "\n",
    "# as expected. verified \n"
   ]
  },
  {
   "cell_type": "code",
   "execution_count": 6,
   "metadata": {},
   "outputs": [
    {
     "name": "stdout",
     "output_type": "stream",
     "text": [
      "\n",
      " gradient = [0.0, 0.0, -0.04851028000019131, 0.048511259999883816, 0.0, 0.048511259999883816]\n",
      "Splitter_0= [1.5707963267948966, 0.0, 0.9805471353974291, 0.7902492893974367, 1.5707963267948966, 0.0048511259999883816]\n",
      "maxconf0= 0.120749995081\n",
      "\n",
      " gradient = [0.0, 0.0, -0.045173407500209706, 0.04517425250011309, 0.0, 0.04517425250011309]\n",
      "Splitter_1= [1.5707963267948966, 0.0, 0.9760297946474081, 0.794766714647448, 1.5707963267948966, 0.00936855124999969]\n",
      "maxconf1= 0.12134249730625\n",
      "\n",
      " gradient = [0.0, 0.0, -0.041800740000069725, 0.041801459999962765, 0.0, 0.041801459999962765]\n",
      "Splitter_2= [1.5707963267948966, 0.0, 0.9718497206474012, 0.7989468606474442, 1.5707963267948966, 0.013548697249995967]\n",
      "maxconf2= 0.12185230840224999\n",
      "\n",
      " gradient = [0.0, 0.0, -0.03839778249997705, 0.03839838749991609, 0.0, 0.03839838749991609]\n",
      "Splitter_3= [1.5707963267948966, 0.0, 0.9680099423974035, 0.8027866993974359, 1.5707963267948966, 0.017388535999987575]\n",
      "maxconf3= 0.12228764211225002\n",
      "\n",
      " gradient = [0.0, 0.0, -0.034969400000278705, 0.03846691749992415, 0.0, 0.03846691749992415]\n",
      "Splitter_4= [1.5707963267948966, 0.0, 0.9645130023973756, 0.8066333911474283, 1.5707963267948966, 0.02123522774997999]\n",
      "maxconf4= 0.12268031630625\n",
      "\n",
      " starting_point = [1.5707963267948966, 0, 0.9853981633974482, 0.7853981633974483, 1.5707963267948966, 0]\n",
      "starting maxconf = 0.12006606153025001, result max maxconf = 0.12268031630625, percent increase = 2.130948838992192\n"
     ]
    },
    {
     "data": {
      "text/plain": [
       "[0.12268031630625,\n",
       " [1.5707963267948966,\n",
       "  0.0,\n",
       "  0.9645130023973756,\n",
       "  0.8066333911474283,\n",
       "  1.5707963267948966,\n",
       "  0.02123522774997999]]"
      ]
     },
     "execution_count": 6,
     "metadata": {},
     "output_type": "execute_result"
    }
   ],
   "source": [
    "GDSearch_modified(starting_point = s_04, quantity = 'maxconf' , c_threshold = 1, theta = 45, iterations = 5, step = .1, calculations = True, adaptive_step=False)"
   ]
  },
  {
   "cell_type": "code",
   "execution_count": 7,
   "metadata": {},
   "outputs": [
    {
     "data": {
      "text/plain": [
       "0.23290449000200003"
      ]
     },
     "execution_count": 7,
     "metadata": {},
     "output_type": "execute_result"
    }
   ],
   "source": [
    "# showing that the maxconf indeed isn't our quantity for GD\n",
    "resultant_s04 = [1.5707963267948966, 0 , 0.9201217213973698, 0.8503218691474568, 1.5707963267949103, 0.0649237057500085]       # result after 50 iterations Starting from s_04 With maxconf = .124996\n",
    "# avg_prob_with_confidence_alternative(custom_splitters = resultant_s04 , quantity= 'maxconf', theta= 45)\n",
    "avg_prob_with_confidence_alternative(custom_splitters = resultant_s04 , quantity= 'avgprob', theta= 45)                         # this shows that max confidence is not the quantity to do GD on...coz even with high maxconf discrimination is low"
   ]
  },
  {
   "cell_type": "code",
   "execution_count": 8,
   "metadata": {},
   "outputs": [
    {
     "name": "stdout",
     "output_type": "stream",
     "text": [
      "0.499998895236\n",
      "0.124999723809\n",
      "0.9996954487157008\n",
      "error in 'quantity' keyword\n"
     ]
    },
    {
     "data": {
      "text/plain": [
       "0.46879062662624377"
      ]
     },
     "execution_count": 8,
     "metadata": {},
     "output_type": "execute_result"
    }
   ],
   "source": [
    "# checking everything works correctly especially the sigmoid function\n",
    "print(avg_prob_with_confidence_alternative(custom_splitters = s, theta = 45, machine_uncertainty= .0001, quantity= 'avgprob'))\n",
    "print(avg_prob_with_confidence_alternative(custom_splitters = s, theta = 45, machine_uncertainty= .0001, quantity= 'maxconf'))      # individual probability one\n",
    "print(avg_prob_with_confidence_alternative(custom_splitters = s, theta = 44, machine_uncertainty= .0001, quantity= 'maxconfactual')) # Actual confidences one\n",
    "print(avg_prob_with_confidence_alternative(custom_splitters = s, theta = 44, machine_uncertainty= .0001, quantity= 'sigmoid'))  # Sigmoid of the individual probability one\n",
    "sigmoid = lambda x: m.exp(x)/(1 + m.exp(x))\n",
    "sigmoid(.125-.25)               # gives expected value, The expected being the value from the Individual probability line of this cell Above"
   ]
  },
  {
   "cell_type": "code",
   "execution_count": 9,
   "metadata": {},
   "outputs": [],
   "source": [
    "# Trying to run gradient decent on the actual confidence Metric\n"
   ]
  },
  {
   "cell_type": "code",
   "execution_count": 18,
   "metadata": {},
   "outputs": [
    {
     "name": "stdout",
     "output_type": "stream",
     "text": [
      "\n",
      " gradient = [-9.800021572026196e-05, -9.800021572026196e-05, -9.800021572026196e-05, -9.800021572026196e-05, 0.0, 0.0]\n",
      "Splitter_0= [1.5706983265791763, -9.800021572026196e-05, 0.785300163181728, 0.785300163181728, 1.7707963267948965, 0.0]\n",
      "maxconfactual0= 0.9999999966124186\n",
      "\n",
      " gradient = [-0.0001687960815566214, -1.6304892991314546e-05, -5.590438334479586e-05, -2.9107798393823714e-05, -1.368904989362818e-09, -3.5458213032413255e-05]\n",
      "Splitter_1= [1.5705295304976197, -0.00011430510871157651, 0.7852442587983832, 0.7852710553833342, 1.7707963254259915, -3.5458213032413255e-05]\n",
      "maxconfactual1= 0.9999999850380948\n",
      "\n",
      " gradient = [9.912834775249735e-05, -0.00029559159675507374, -0.00015659405105949986, -0.00010433357178207814, -6.045164369083977e-09, 4.164182332289101e-06]\n",
      "Splitter_2= [1.5706286588453722, -0.00040989670546665025, 0.7850876647473237, 0.7851667218115521, 1.7707963193808272, -3.1294030700124154e-05]\n",
      "maxconfactual2= 0.9999998757517253\n",
      "\n",
      " gradient = [-0.0007781910060788988, 0.0005767047350779819, -0.0001651938463798075, 0.0002898959583497174, -5.019762383540183e-08, 4.3073230537871154e-05]\n",
      "Splitter_3= [1.5698504678392933, 0.00016680802961133168, 0.7849224709009439, 0.7854566177699018, 1.7707962691832033, 1.1779199837747001e-05]\n",
      "maxconfactual3= 0.9999992943277888\n",
      "\n",
      " gradient = [0.0007224168607766757, -0.0033300637136690625, -0.0006232615212820036, -0.006232329591293606, 7.021607739687852e-06, -0.006240989586236978]\n",
      "Splitter_4= [1.57057288470007, -0.003163255684057731, 0.7842992093796619, 0.7792242881786082, 1.770803290790943, -0.006229210386399231]\n",
      "maxconfactual4= 0.9998687249270538\n",
      "\n",
      " gradient = [0.007535134102232277, 0.0030980409648773133, -0.0184971964534153, 0.02137785336198128, -4.9219548436951754e-05, 0.02168616753839281]\n",
      "Splitter_5= [1.5781080188023022, -6.521471918041755e-05, 0.7658020129262466, 0.8006021415405895, 1.770754071242506, 0.015456957151993578]\n",
      "maxconfactual5= 0.9998313819825172\n",
      "\n",
      " gradient = [-0.014684352601657125, 0.014491810430561358, -0.021934986104144016, -0.02176462851277705, 0.0, -0.021149179010304664]\n",
      "Splitter_6= [1.563423666200645, 0.01442659571138094, 0.7438670268221026, 0.7788375130278125, 1.770754071242506, -0.005692221858311086]\n",
      "maxconfactual6= 0.9989094923085547\n",
      "\n",
      " gradient = [0.018913676476106644, 0.02907752925662699, 0.07453060989370819, -0.0522115574630444, -0.0044456308545548495, -0.05373802440811204]\n",
      "Splitter_7= [1.5823373426767517, 0.04350412496800793, 0.8183976367158108, 0.7266259555647681, 1.7663084403879512, -0.059430246266423126]\n",
      "maxconfactual7= 0.992096059337161\n",
      "\n",
      " gradient = [0.06675284821011651, -0.051831582735806236, 0.15771172237277753, 0.16617048513856147, 0.002326570878175005, 0.16269270735058683]\n",
      "Splitter_8= [1.6490901908868683, -0.008327457767798307, 0.9761093590885883, 0.8927964407033295, 1.7686350112661262, 0.1032624610841637]\n",
      "maxconfactual8= 0.9911515606822032\n",
      "\n",
      " gradient = [-0.07887721071853093, 0.013109648812070773, 0.029728497029646306, -0.06701503020178912, -0.05204073805997744, -0.09587807399902282]\n",
      "Splitter_9= [1.5702129801683373, 0.004782191044272466, 1.0058378561182346, 0.8257814105015404, 1.7165942732061488, 0.007384387085140887]\n",
      "maxconfactual9= 0.9688207475949394\n",
      "\n",
      " gradient = [0.034971985898302194, 0.0022297534363335814, -0.3529110191469176, 0.30620112553836343, -0.004193417479925188, 0.30665017311526377]\n",
      "Splitter_10= [1.6051849660666395, 0.007011944480606047, 0.652926836971317, 1.1319825360399038, 1.7124008557262236, 0.31403456020040466]\n",
      "maxconfactual10= 0.6637801739584931\n",
      "\n",
      " gradient = [-0.014388186113656332, 0.09190777020107177, -0.3233678904945858, -1.2176484766168727, 0.0583940119813775, -1.21676786070668]\n",
      "Splitter_11= [1.5907967799529832, 0.09891971468167782, 0.32955894647673123, -0.08566594057696886, 1.770794867707601, -0.9027333005062754]\n",
      "maxconfactual11= 0.8684527550466219\n",
      "\n",
      " gradient = [0.03207509326697, -0.1445254386467365, 0.8913044170977269, -0.3597141247635438, -0.3269675492223456, -0.3159623144488588]\n",
      "Splitter_12= [1.6228718732199532, -0.04560572396505869, 1.2208633635744581, -0.44538006534051267, 1.4438273184852555, -1.2186956149551342]\n",
      "maxconfactual12= 0.745903201385705\n",
      "\n",
      " gradient = [-0.03085146684234097, -0.09613800778018877, 0.6578175672489195, -2.2353824296827973, -0.05901823645904081, -2.2290064081575967]\n",
      "Splitter_13= [1.5920204063776122, -0.14174373174524746, 1.8786809308233776, -2.68076249502331, 1.3848090820262147, -3.447702023112731]\n",
      "maxconfactual13= 0.8571473545626401\n",
      "\n",
      " gradient = [-0.30755109072133635, -0.22148277838307528, -0.7431201395902143, 1.352129547805836, 0.5474697805940565, 1.3431666193586267]\n",
      "Splitter_14= [1.2844693156562759, -0.36322651012832274, 1.1355607912331633, -1.328632947217474, 1.9322788626202712, -2.104535403754104]\n",
      "maxconfactual14= 0.8184136753134771\n",
      "\n",
      " gradient = [-0.44384730033208974, -1.4186319230691247, 0.2996089016238379, -1.562363338530881, 1.120798231286635, -0.9469842888554236]\n",
      "Splitter_15= [0.8406220153241861, -1.7818584331974474, 1.4351696928570012, -2.890996285748355, 3.0530770939069063, -3.051519692609528]\n",
      "maxconfactual15= 0.6205197679032279\n",
      "\n",
      " gradient = [0.0061672827667003105, 0.912033061265527, -0.7620722956991344, -0.018108592866328266, -0.9615644027205494, 1.2182492605483652]\n",
      "Splitter_16= [0.8467892980908864, -0.8698253719319204, 0.6730973971578669, -2.9091048786146834, 2.091512691186357, -1.8332704320611626]\n",
      "maxconfactual16= 0.9062062973215383\n",
      "\n",
      " gradient = [-0.4853169187568618, -0.1472106313438193, -0.9665321784857461, 0.19564098760138648, 0.2670873759502701, 0.0]\n",
      "Splitter_17= [0.36147237933402465, -1.0170360032757397, -0.29343478132787926, -2.713463891013297, 2.358600067136627, -1.8332704320611626]\n",
      "maxconfactual17= 0.9583372051831399\n",
      "\n",
      " gradient = [0.2756728924102614, 0.1710946431665583, -0.1508241729564208, -0.3846425511677687, 0.06122471239433658, -0.08614536485040958]\n",
      "Splitter_18= [0.637145271744286, -0.8459413601091814, -0.44425895428430007, -3.0981064421810656, 2.4198247795309635, -1.9194157969115722]\n",
      "maxconfactual18= 0.937422340311849\n",
      "\n",
      " gradient = [0.014950401174829153, 0.3405006794499066, 0.27609175688447785, -0.11042041940911851, -0.4075343040954582, 0.0]\n",
      "Splitter_19= [0.6520956729191152, -0.5054406806592748, -0.16816719739982222, -3.208526861590184, 2.0122904754355053, -1.9194157969115722]\n",
      "maxconfactual19= 0.787503736072961\n",
      "\n",
      " starting_point = [1.5707963267948966, 0, 0.7853981633974483, 0.7853981633974483, 1.7707963267948965, 0]\n",
      "starting maxconfactual = 1.0, result max maxconfactual = 0.787503736072961, percent increase = -26.983524546396765\n"
     ]
    },
    {
     "data": {
      "text/plain": [
       "[0.787503736072961,\n",
       " [0.6520956729191152,\n",
       "  -0.5054406806592748,\n",
       "  -0.16816719739982222,\n",
       "  -3.208526861590184,\n",
       "  2.0122904754355053,\n",
       "  -1.9194157969115722]]"
      ]
     },
     "execution_count": 18,
     "metadata": {},
     "output_type": "execute_result"
    }
   ],
   "source": [
    "# doing with max of individual confidences\n",
    "GDSearch_modified(starting_point = s_02, quantity = 'maxconfactual' , c_threshold = 1, theta = 45, iterations = 20, step = 1 , calculations = True, adaptive_step= False)"
   ]
  },
  {
   "cell_type": "code",
   "execution_count": 15,
   "metadata": {},
   "outputs": [
    {
     "name": "stdout",
     "output_type": "stream",
     "text": [
      "\n",
      " gradient = [-2.1353756540776203e-05, -2.1353756540776203e-05, -2.1353756540776203e-05, -2.1353756540776203e-05, 0.0, 0.0]\n",
      "Splitter_0= [1.5705827892294888, -0.00021353756540776203, 0.7851846258320405, 0.7851846258320405, 1.7707963267948965, 0.0]\n",
      "sigmoid_confactual0= 0.6791786956354929\n",
      "\n",
      " gradient = [-5.970150263046037e-05, 1.8218245800838417e-05, -4.0647831767159914e-05, 1.9779525795016184e-05, -5.413058890013644e-07, 9.40434841112392e-06]\n",
      "Splitter_1= [1.5699857742031842, -3.135510739937786e-05, 0.7847781475143689, 0.7853824210899907, 1.7707909137360065, 9.40434841112392e-05]\n",
      "sigmoid_confactual1= 0.6791785030887849\n",
      "\n",
      " gradient = [0.00031420484880584354, 0.0002904891904798035, 0.0002156595668711958, 0.0002156595668711958, 0.0, 0.0002053879877284004]\n",
      "Splitter_2= [1.5731278226912426, 0.002873536797398657, 0.7869347431830809, 0.7875390167587026, 1.7707909137360065, 0.002147923361395243]\n",
      "sigmoid_confactual2= 0.6791753580731756\n",
      "\n",
      " gradient = [0.000599673607437623, -0.000919552952671765, 0.0013712052915337836, -0.001977880794701292, -1.2338999821892571e-05, -0.0016423693505185355]\n",
      "Splitter_3= [1.5791245587656189, -0.006321992729318993, 0.8006467960984187, 0.7677602088116897, 1.7706675237377876, -0.014275770143790112]\n",
      "sigmoid_confactual3= 0.6790740354380809\n",
      "\n",
      " gradient = [-0.006402199760335847, 0.006363767149908384, 0.007138839537290664, 0.007159437267478808, 0.0, 0.006969235814002772]\n",
      "Splitter_4= [1.5151025611622604, 0.057315678769764844, 0.8720351914713254, 0.8393545814864778, 1.7706675237377876, 0.05541658799623761]\n",
      "sigmoid_confactual4= 0.6783331456257669\n",
      "\n",
      " gradient = [-0.017223894739348822, -0.021287261560143378, -0.013271045399276815, -0.006120805337017643, -0.0070031834620287725, -0.006165267880664516]\n",
      "Splitter_5= [1.3428636137687722, -0.15555693683166893, 0.7393247374785572, 0.7781465281163014, 1.7006356891174998, -0.006236090810407546]\n",
      "sigmoid_confactual5= 0.6778330793204616\n",
      "\n",
      " gradient = [0.030400207594594164, -0.03657776942000979, 0.015188317163961074, 0.014785032490527428, 0.0, 0.014504981815655071]\n",
      "Splitter_6= [1.6468656897147138, -0.5213346310317668, 0.8912079091181679, 0.9259968530215756, 1.7006356891174998, 0.13881372734614317]\n",
      "sigmoid_confactual6= 0.6561655327212464\n",
      "\n",
      " gradient = [0.09348925526730945, 0.051517885548690856, -0.044121124801455025, -0.11268175178824613, 0.11128568861207278, -0.11146528484995422]\n",
      "Splitter_7= [2.5817582423878083, -0.006155775544858244, 0.4499966611036177, -0.20082066486088568, 2.813492575238228, -0.975839121153399]\n",
      "sigmoid_confactual7= 0.6260391800126178\n",
      "\n",
      " gradient = [0.07939084504915428, -0.3207674832861329, -0.11840553823416755, -0.21405005105945563, -0.006551587042880058, 0.0]\n",
      "Splitter_8= [3.375666692879351, -3.2138306084061874, -0.7340587212380578, -2.341321175455442, 2.7479767048094272, -0.975839121153399]\n",
      "sigmoid_confactual8= 0.6634173423498161\n",
      "\n",
      " gradient = [-0.11272421135410937, 0.11203544481031003, 0.06465924070719886, -0.011390851628600984, -0.012538613832768775, 0.0]\n",
      "Splitter_9= [2.2484245793382573, -2.093476160303087, -0.0874663141660692, -2.455229691741452, 2.6225905664817395, -0.975839121153399]\n",
      "sigmoid_confactual9= 0.6282514524887003\n",
      "\n",
      " gradient = [-0.13616564250584773, -0.08777123762682137, -0.06304343339258445, 0.09433535220093603, -0.07734579128726438, 0.4290176495191922]\n",
      "Splitter_10= [0.8867681542797801, -2.971188536571301, -0.7179006480919137, -1.5118761697320915, 1.8491326536090957, 3.314337374038523]\n",
      "sigmoid_confactual10= 0.6369438159465427\n",
      "\n",
      " gradient = [-0.004830315259995999, 0.030126070155178652, 0.04985335084417564, 0.26531411157493245, 0.02654168020033154, 0.24097153701885254]\n",
      "Splitter_11= [0.8384650016798201, -2.6699278350195144, -0.2193671396501573, 1.141264946017233, 2.114549455612411, 5.724052744227048]\n",
      "sigmoid_confactual11= 0.667722006535757\n",
      "\n",
      " gradient = [0.06104456652278323, 0.014035991701133455, -0.11286760125628348, -0.022695932112570816, -0.031009555555572277, -0.039726549898588814]\n",
      "Splitter_12= [1.4489106669076524, -2.52956791800818, -1.348043152212992, 0.9143056248915249, 1.8044539000566884, 5.32678724524116]\n",
      "sigmoid_confactual12= 0.5650317929790993\n",
      "\n",
      " gradient = [-0.012347508091536952, 0.00902976444394632, 0.01306676495116399, 0.006829312738654281, -0.0032799285820672708, 0.011223845449714887]\n",
      "Splitter_13= [1.3254355859922828, -2.4392702735687166, -1.2173755027013522, 0.9825987522780677, 1.7716546142360157, 5.439025699738309]\n",
      "sigmoid_confactual13= 0.5948615598203635\n",
      "\n",
      " gradient = [-0.09705428096973279, 0.014796687326512625, 0.05865067361998655, 0.13067054892346164, -0.0025188185948099573, 0.12195963884908956]\n",
      "Splitter_14= [0.35489277629495497, -2.2913034003035904, -0.6308687665014867, 2.289304241512684, 1.746466428287916, 6.658622088229205]\n",
      "sigmoid_confactual14= 0.6053343254112702\n",
      "\n",
      " starting_point = [1.5707963267948966, 0, 0.7853981633974483, 0.7853981633974483, 1.7707963267948965, 0]\n",
      "starting sigmoid_confactual = 0.679178699175393, result max sigmoid_confactual = 0.6053343254112702, percent increase = -12.198940430802793\n"
     ]
    },
    {
     "data": {
      "text/plain": [
       "[0.6053343254112702,\n",
       " [0.35489277629495497,\n",
       "  -2.2913034003035904,\n",
       "  -0.6308687665014867,\n",
       "  2.289304241512684,\n",
       "  1.746466428287916,\n",
       "  6.658622088229205]]"
      ]
     },
     "execution_count": 15,
     "metadata": {},
     "output_type": "execute_result"
    }
   ],
   "source": [
    "# doing with sigmoid of max individual prob\n",
    "GDSearch_modified(starting_point = s_02, quantity = 'sigmoid_confactual' , c_threshold = 1, theta = 45, iterations = 15, step = 10 , calculations = True, adaptive_step= False)\n"
   ]
  }
 ],
 "metadata": {
  "kernelspec": {
   "display_name": "Python 3",
   "language": "python",
   "name": "python3"
  },
  "language_info": {
   "codemirror_mode": {
    "name": "ipython",
    "version": 3
   },
   "file_extension": ".py",
   "mimetype": "text/x-python",
   "name": "python",
   "nbconvert_exporter": "python",
   "pygments_lexer": "ipython3",
   "version": "3.11.4"
  },
  "orig_nbformat": 4
 },
 "nbformat": 4,
 "nbformat_minor": 2
}
